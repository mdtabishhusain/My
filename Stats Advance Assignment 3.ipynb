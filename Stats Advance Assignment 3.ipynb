{
 "cells": [
  {
   "cell_type": "markdown",
   "id": "09bcb2e4-1a23-48de-9512-a6312bbd9d65",
   "metadata": {},
   "source": [
    "### Q1: What is Estimation Statistics? Explain point estimate and interval estimate."
   ]
  },
  {
   "cell_type": "markdown",
   "id": "def40454-a84e-4640-bd60-252314ad64be",
   "metadata": {},
   "source": [
    "### Ans:\n",
    "It is an observed numerical value used to estimate an unknown population parameter. It has 2 types: Point Estimate and Interval Estimate\n",
    "POINT ESTIMATE\n",
    "Single numerical value used to estimate the unknown population parameter. For example sample mean is a point estimate of a population mean.\n",
    "INTERVAL ESTIMATE\n",
    "Range of values used to estimate the unknown population parameters. Interval estimates of a population parameters are called confidence interval."
   ]
  },
  {
   "cell_type": "markdown",
   "id": "b46c1d72-f084-4fc8-bbc4-416a5b8d91b3",
   "metadata": {},
   "source": [
    "### Q2. Write a Python function to estimate the population mean using a sample mean and standard deviation."
   ]
  },
  {
   "cell_type": "code",
   "execution_count": 1,
   "id": "71aa6011-e5a8-4d1b-8195-33abe6c6a8a1",
   "metadata": {},
   "outputs": [
    {
     "name": "stdout",
     "output_type": "stream",
     "text": [
      "Estimated Population Mean: 52.5\n"
     ]
    }
   ],
   "source": [
    "def estimate_population_mean(sample_mean):\n",
    "    return sample_mean\n",
    "\n",
    "# Example usage:\n",
    "sample_mean = 52.5  # Replace with your sample mean\n",
    "estimated_population_mean = estimate_population_mean(sample_mean)\n",
    "print(f\"Estimated Population Mean: {estimated_population_mean}\")\n"
   ]
  },
  {
   "cell_type": "markdown",
   "id": "27b6d5b2-6bd7-430b-b68d-d70db0fca824",
   "metadata": {},
   "source": [
    "### Q3: What is Hypothesis testing? Why is it used? State the importance of Hypothesis testing."
   ]
  },
  {
   "cell_type": "markdown",
   "id": "eb9255fc-7cd6-445b-82aa-4a1dd10da0ad",
   "metadata": {},
   "source": [
    "### Ans:\n",
    "In inferential stats we use a sample data from a large set of population data in order to reach a conclusion. These conclusions are achieved using the Hypothesis testing."
   ]
  },
  {
   "cell_type": "markdown",
   "id": "30db8056-2755-4031-97a9-4c16026a66ba",
   "metadata": {},
   "source": [
    "### Q4. Create a hypothesis that states whether the average weight of male college students is greater than the average weight of female college students."
   ]
  },
  {
   "cell_type": "markdown",
   "id": "c39d56b2-8437-4485-89c4-80af729944b9",
   "metadata": {},
   "source": [
    "### Ans:\n",
    "Hypothesis testing is a statistical approach to determine if there is a significant difference between two or more groups or conditions. In your case, you want to create a hypothesis that states whether the average weight of male college students is greater than the average weight of female college students. You can set up this hypothesis test as follows:\n",
    "\n",
    "Null Hypothesis (H0): There is no significant difference in the average weight between male and female college students. Mathematically, this can be represented as:\n",
    "\n",
    "�\n",
    "0\n",
    ":\n",
    "�\n",
    "�\n",
    "−\n",
    "�\n",
    "�\n",
    "=\n",
    "0\n",
    "H0:μ \n",
    "m\n",
    "​\n",
    " −μ \n",
    "f\n",
    "​\n",
    " =0\n",
    "\n",
    "Where:\n",
    "\n",
    "�\n",
    "�\n",
    "μ \n",
    "m\n",
    "​\n",
    "  represents the population mean weight of male college students.\n",
    "�\n",
    "�\n",
    "μ \n",
    "f\n",
    "​\n",
    "  represents the population mean weight of female college students.\n",
    "Alternative Hypothesis (Ha): The average weight of male college students is greater than the average weight of female college students. Mathematically, this can be represented as:\n",
    "\n",
    "�\n",
    "�\n",
    ":\n",
    "�\n",
    "�\n",
    ">\n",
    "�\n",
    "�\n",
    "Ha:μ \n",
    "m\n",
    "​\n",
    " >μ \n",
    "f\n",
    "​\n",
    " \n",
    "\n",
    "In words, you are testing whether the population mean weight of male college students (\n",
    "�\n",
    "�\n",
    "μ \n",
    "m\n",
    "​\n",
    " ) is greater than the population mean weight of female college students (\n",
    "�\n",
    "�\n",
    "μ \n",
    "f\n",
    "​\n",
    " ). The null hypothesis (H0) assumes no difference, while the alternative hypothesis (Ha) suggests that there is a significant difference in favor of male college students having a greater average weight.\n",
    "\n",
    "To test this hypothesis, you would collect data on the weights of male and female college students, perform a statistical test (e.g., t-test or z-test), and determine whether the observed difference in sample means is statistically significant. The choice of the specific statistical test and significance level depends on your data and research objectives.\n",
    "\n",
    "\n",
    "\n",
    "\n"
   ]
  },
  {
   "cell_type": "markdown",
   "id": "c32590f9-c125-4011-ac28-e15607b9b91d",
   "metadata": {},
   "source": [
    "### Q5. Write a Python script to conduct a hypothesis test on the difference between two population means, given a sample from each population."
   ]
  },
  {
   "cell_type": "code",
   "execution_count": 2,
   "id": "46afa6ef-8969-460f-8d65-59a65d22ddb5",
   "metadata": {},
   "outputs": [
    {
     "name": "stdout",
     "output_type": "stream",
     "text": [
      "Reject the null hypothesis.\n",
      "There is a significant difference between the two populations.\n",
      "t-statistic: 4.5482885294570625\n",
      "P-value: 2.8073635785857054e-05\n"
     ]
    }
   ],
   "source": [
    "import numpy as np\n",
    "from scipy import stats\n",
    "\n",
    "# Generate sample data for two populations\n",
    "np.random.seed(0)  # For reproducibility\n",
    "sample_size = 30  # Sample size for each population\n",
    "\n",
    "# Sample data for Population A (e.g., male college students)\n",
    "population_a = np.random.normal(70, 10, sample_size)  # Mean = 70, Standard Deviation = 10\n",
    "\n",
    "# Sample data for Population B (e.g., female college students)\n",
    "population_b = np.random.normal(65, 12, sample_size)  # Mean = 65, Standard Deviation = 12\n",
    "\n",
    "# Perform a two-sample t-test\n",
    "t_statistic, p_value = stats.ttest_ind(population_a, population_b)\n",
    "\n",
    "# Set the significance level (alpha)\n",
    "alpha = 0.05\n",
    "\n",
    "# Check if the p-value is less than alpha to determine significance\n",
    "if p_value < alpha:\n",
    "    print(\"Reject the null hypothesis.\")\n",
    "    print(\"There is a significant difference between the two populations.\")\n",
    "else:\n",
    "    print(\"Fail to reject the null hypothesis.\")\n",
    "    print(\"There is no significant difference between the two populations.\")\n",
    "\n",
    "# Print the t-statistic and p-value\n",
    "print(f\"t-statistic: {t_statistic}\")\n",
    "print(f\"P-value: {p_value}\")"
   ]
  },
  {
   "cell_type": "markdown",
   "id": "29bbd426-5ffe-437d-a0bb-ec5333ae140b",
   "metadata": {},
   "source": [
    "### Q6: What is a null and alternative hypothesis? Give some examples."
   ]
  },
  {
   "cell_type": "markdown",
   "id": "f48278b2-feb0-4f82-ae9f-43f260da79dc",
   "metadata": {},
   "source": [
    "### Ans:\n",
    "1. Null Hypothesis (H_0): It is the assumption we are beginning with. For example a person is convicted for a murder and taken to court. For the court the problem statement is whether the person is guilty or not. So the null hypothesis for the problem will be \"person is not guilty\" as Indian Constitution advocates for innocent until proven guilty concept\n",
    "\n",
    "2. Alternate Hypothesis(H_1): It is opposite of null hypothesis. In the above example alternate hypothesis for the problem will be \"the person is guilty\". \n"
   ]
  },
  {
   "cell_type": "markdown",
   "id": "62e165bd-49bd-420a-9cff-57932f8cf184",
   "metadata": {},
   "source": [
    "### Q7: Write down the steps involved in hypothesis testing."
   ]
  },
  {
   "cell_type": "markdown",
   "id": "24946f7c-6235-42da-9b05-b8d896987c4c",
   "metadata": {},
   "source": [
    "### Ans:\n",
    "Hypothesis testing mechanism is the procedure of finding the hypothesis. It includes:\n",
    "1. Null Hypothesis (H_0): It is the assumption we are beginning with. For example a person is convicted for a murder and taken to court. For the court the problem statement is whether the person is guilty or not. So the null hypothesis for the problem will be \"person is not guilty\" as Indian Constitution advocates for innocent until proven guilty concept\n",
    "2. Alternate Hypothesis(H_1): It is opposite of null hypothesis. In the above example alternate hypothesis for the problem will be \"the person is guilty\". \n",
    "3. Experiments: Experiments are performed to reach either of the 2 hypothesis. In the above example experiments will be collection of evidences such as DNA test, finger prints etc.\n",
    "4. Accept the null hypothesis or reject the null hypothesis i.e. accept the alternate hypothesis. In the above case accept either the person is innocent or reject the person is innocent i.e. person is guilty."
   ]
  },
  {
   "cell_type": "markdown",
   "id": "77c06399-a0f9-41dc-89fe-5ce5dd501c0f",
   "metadata": {},
   "source": [
    "### Q8. Define p-value and explain its significance in hypothesis testing."
   ]
  },
  {
   "cell_type": "markdown",
   "id": "6a9dbe60-cd05-4657-967d-dfceba876b32",
   "metadata": {},
   "source": [
    "### Ans:\n",
    "The p value is a number, calculated from a statistical test, which describes how likely you are to have found a particular set of observations if the null hypothesis were true. P values are used in hypothesis testing to help decide whether to reject the null hypothesis."
   ]
  },
  {
   "cell_type": "markdown",
   "id": "f87b6787-e977-4e30-ad47-0fe04f591c69",
   "metadata": {},
   "source": [
    "### Q9. Generate a Student's t-distribution plot using Python's matplotlib library, with the degrees of freedom parameter set to 10."
   ]
  },
  {
   "cell_type": "code",
   "execution_count": 3,
   "id": "7463d36e-47b4-4256-a69a-a4369e6e347a",
   "metadata": {},
   "outputs": [
    {
     "data": {
      "image/png": "[encoded data removed]",
      "text/plain": [
       "<Figure size 800x600 with 1 Axes>"
      ]
     },
     "metadata": {},
     "output_type": "display_data"
    }
   ],
   "source": [
    "import numpy as np\n",
    "import matplotlib.pyplot as plt\n",
    "from scipy.stats import t\n",
    "\n",
    "# Define the degrees of freedom\n",
    "degrees_of_freedom = 10\n",
    "\n",
    "# Generate a range of x-values for the t-distribution plot\n",
    "x = np.linspace(-4, 4, 400)  # Adjust the range as needed\n",
    "\n",
    "# Calculate the probability density function (PDF) values for the t-distribution\n",
    "pdf_values = t.pdf(x, degrees_of_freedom)\n",
    "\n",
    "# Create a plot\n",
    "plt.figure(figsize=(8, 6))\n",
    "plt.plot(x, pdf_values, label=f't-distribution (df={degrees_of_freedom})', color='blue')\n",
    "\n",
    "# Add labels and a legend\n",
    "plt.xlabel('x')\n",
    "plt.ylabel('PDF')\n",
    "plt.title(f'Student\\'s t-Distribution (df={degrees_of_freedom})')\n",
    "plt.legend()\n",
    "\n",
    "# Show the plot\n",
    "plt.grid(True)\n",
    "plt.show()\n"
   ]
  },
  {
   "cell_type": "markdown",
   "id": "9d28ad3b-9250-455b-a57d-d591e34e092a",
   "metadata": {},
   "source": [
    "### Q10. Write a Python program to calculate the two-sample t-test for independent samples, given two random samples of equal size and a null hypothesis that the population means are equal."
   ]
  },
  {
   "cell_type": "code",
   "execution_count": 4,
   "id": "c82d3ac1-c110-48ac-b774-d0b6def43ce1",
   "metadata": {},
   "outputs": [
    {
     "name": "stdout",
     "output_type": "stream",
     "text": [
      "Sample A Mean: 74.42856447263175\n",
      "Sample B Mean: 61.52573772615222\n",
      "t-statistic: 4.5482885294570625\n",
      "P-value: 2.8073635785857054e-05\n",
      "Reject the null hypothesis.\n",
      "There is a significant difference between the two sample means.\n"
     ]
    }
   ],
   "source": [
    "import numpy as np\n",
    "from scipy import stats\n",
    "\n",
    "# Generate two random samples (replace with your data)\n",
    "np.random.seed(0)\n",
    "sample_size = 30\n",
    "sample_a = np.random.normal(70, 10, sample_size)  # Sample A\n",
    "sample_b = np.random.normal(65, 12, sample_size)  # Sample B\n",
    "\n",
    "# Perform a two-sample t-test assuming equal variances (unpaired)\n",
    "t_statistic, p_value = stats.ttest_ind(sample_a, sample_b)\n",
    "\n",
    "# Set the significance level (alpha)\n",
    "alpha = 0.05\n",
    "\n",
    "# Print the results of the t-test\n",
    "print(f\"Sample A Mean: {np.mean(sample_a)}\")\n",
    "print(f\"Sample B Mean: {np.mean(sample_b)}\")\n",
    "print(f\"t-statistic: {t_statistic}\")\n",
    "print(f\"P-value: {p_value}\")\n",
    "\n",
    "# Check if the p-value is less than alpha to determine significance\n",
    "if p_value < alpha:\n",
    "    print(\"Reject the null hypothesis.\")\n",
    "    print(\"There is a significant difference between the two sample means.\")\n",
    "else:\n",
    "    print(\"Fail to reject the null hypothesis.\")\n",
    "    print(\"There is no significant difference between the two sample means.\")\n"
   ]
  },
  {
   "cell_type": "markdown",
   "id": "540288e7-d035-4790-b99f-11dfb9301e00",
   "metadata": {},
   "source": [
    "### Q11: What is Student’s t distribution? When to use the t-Distribution."
   ]
  },
  {
   "cell_type": "markdown",
   "id": "81306114-72a0-4ec3-9684-f2c9c98302ff",
   "metadata": {},
   "source": [
    "### Ans:\n",
    "Student's t-distribution, often simply referred to as the t-distribution, is a probability distribution that arises in statistical inference when dealing with small sample sizes or when the population standard deviation is unknown. It is used in hypothesis testing, confidence interval estimation, and making inferences about population means."
   ]
  },
  {
   "cell_type": "markdown",
   "id": "cb18eea7-c117-482b-9fb8-cc89dfd72e72",
   "metadata": {},
   "source": [
    "### Q12: What is t-statistic? State the formula for t-statistic."
   ]
  },
  {
   "cell_type": "markdown",
   "id": "dd65331a-7eee-401a-9bee-41d7d226f4fa",
   "metadata": {},
   "source": [
    "### Ans:\n",
    "A T-test is a parametric test applied to identify how the average of two data sets differs when population standard deviation is not given. When the sample size is small, and the population standard deviation is unknown, the T-test is used in conjunction with the t-distribution. T test uses sample standard deviation when population standard deviation is absent whereas z score uses population standard deviation.\n",
    "T test is given by t=(x ̅-μ)/(S⁄√n)\n"
   ]
  },
  {
   "cell_type": "markdown",
   "id": "2c6530ac-8b92-43f0-8d24-538363934704",
   "metadata": {},
   "source": [
    "### Q13. A coffee shop owner wants to estimate the average daily revenue for their shop. They take a randomsample of 50 days and find the sample mean revenue to be 500 with a standard deviation of 50.Estimate the population mean revenue with a 95% confidence interval."
   ]
  },
  {
   "cell_type": "markdown",
   "id": "05412038-caa4-43f2-88c3-9fe73258306a",
   "metadata": {},
   "source": [
    "steps to estimate the population mean revenue with a 95% confidence interval:\n",
    "\n",
    "Identify the sample mean, the sample size, and the sample standard deviation. We have:\n",
    "\n",
    "Sample mean = 500\n",
    "Sample size = 50\n",
    "Sample standard deviation = 50\n",
    "Determine the confidence level. We are given a 95% confidence level, so α = 1 - 0.95 = 0.05.\n",
    "\n",
    "Find the critical value zα/2. For a 95% confidence level, zα/2 = 1.96.\n",
    "\n",
    "Calculate the margin of error.\n",
    "\n",
    "margin of error = zα/2 * σ/√n\n",
    "= 1.96 * $50/√50\n",
    "= $9.8\n",
    "Construct the confidence interval.\n",
    "confidence interval = (x̄ - margin of error, x̄ + margin of error)\n",
    "= (500 - 9.8, 500 + 9.8)\n",
    "= (490.2, 509.8)\n",
    "Therefore, we can be 95% confident that the population mean revenue is between 490.2 and 509.8."
   ]
  },
  {
   "cell_type": "markdown",
   "id": "e9892db6-c1a8-4931-a7cb-a7d167ef0c73",
   "metadata": {},
   "source": [
    "### Q14. A researcher hypothesizes that a new drug will decrease blood pressure by 10 mmHg. They conduct a clinical trial with 100 patients and find that the sample mean decrease in blood pressure is 8 mmHg with a standard deviation of 3 mmHg. Test the hypothesis with a significance level of 0.05."
   ]
  },
  {
   "cell_type": "markdown",
   "id": "fd2cb720-c5d1-4488-ae0d-e50884439220",
   "metadata": {},
   "source": [
    "### Ans:\n",
    "State the null and alternative hypotheses.\n",
    "The null hypothesis is that the new drug does not decrease blood pressure, so the mean decrease is 0 mmHg. The alternative hypothesis is that the new drug does decrease blood pressure, so the mean decrease is greater than 0 mmHg.\n",
    "\n",
    "H0: μ = 0\n",
    "Ha: μ > 0\n",
    "Choose a significance level. We are given a significance level of 0.05, so we are willing to reject the null hypothesis if the p-value is less than 0.05.\n",
    "\n",
    "Calculate the test statistic.\n",
    "\n",
    "The test statistic is the z-score, which is calculated as follows:\n",
    "\n",
    "z = (x̄ - μ)/σ\n",
    "= (8 - 0)/3\n",
    "= 2.67\n",
    "Determine the p-value. The p-value is the probability of getting a z-score of 2.67 or more if the null hypothesis is true. We can find the p-value using a z-table or a statistical calculator. The p-value is 0.004.\n",
    "\n",
    "Make a decision. The p-value is less than the significance level, so we reject the null hypothesis. This means that there is sufficient evidence to conclude that the new drug does decrease blood pressure.\n",
    "\n",
    "In other words, we are 95% confident that the true mean decrease in blood pressure is greater than 0 mmHg."
   ]
  },
  {
   "cell_type": "markdown",
   "id": "3f463d75-1bb3-4928-bc51-eb9b78f76789",
   "metadata": {},
   "source": [
    "### Q15. An electronics company produces a certain type of product with a mean weight of 5 pounds and a standard deviation of 0.5 pounds. A random sample of 25 products is taken, and the sample mean weight is found to be 4.8 pounds. Test the hypothesis that the true mean weight of the products is less than 5 pounds with a significance level of 0.01."
   ]
  },
  {
   "cell_type": "markdown",
   "id": "7cc714ea-3ea0-4e33-b2cd-59f3d36b47d1",
   "metadata": {},
   "source": [
    "### Ans:\n",
    "State the null and alternative hypotheses.\n",
    "The null hypothesis is that the true mean weight of the products is 5 pounds. The alternative hypothesis is that the true mean weight of the products is less than 5 pounds.\n",
    "\n",
    "H0: μ = 5\n",
    "Ha: μ < 5\n",
    "Choose a significance level. We are given a significance level of 0.01, so we are willing to reject the null hypothesis if the p-value is less than 0.01.\n",
    "\n",
    "Calculate the test statistic.\n",
    "\n",
    "The test statistic is the t-score, which is calculated as follows:\n",
    "\n",
    "t = (x̄ - μ)/σ/√n\n",
    "= (4.8 - 5)/0.5/√25\n",
    "= -2.24\n",
    "Determine the p-value. The p-value is the probability of getting a t-score of -2.24 or more if the null hypothesis is true. We can find the p-value using a t-table or a statistical calculator. The p-value is 0.027.\n",
    "\n",
    "Make a decision. The p-value is less than the significance level, so we reject the null hypothesis. This means that there is sufficient evidence to conclude that the true mean weight of the products is less than 5 pounds.\n",
    "\n",
    "In other words, we are 99% confident that the true mean weight of the products is less than 5 pounds."
   ]
  },
  {
   "cell_type": "markdown",
   "id": "d0e563e3-c327-463d-b357-ea26ba04f8df",
   "metadata": {},
   "source": [
    "### Q16. Two groups of students are given different study materials to prepare for a test. The first group (n1 =30) has a mean score of 80 with a standard deviation of 10, and the second group (n2 = 40) has a mean score of 75 with a standard deviation of 8. Test the hypothesis that the population means for the two groups are equal with a significance level of 0.01."
   ]
  },
  {
   "cell_type": "markdown",
   "id": "41c532db-f1af-44e7-be64-731082a84772",
   "metadata": {},
   "source": [
    "### Ans:\n",
    "State the null and alternative hypotheses.\n",
    "The null hypothesis is that the population means for the two groups are equal. The alternative hypothesis is that the population means for the two groups are not equal.\n",
    "\n",
    "H0: μ1 = μ2\n",
    "Ha: μ1 ≠ μ2\n",
    "Choose a significance level. We are given a significance level of 0.01, so we are willing to reject the null hypothesis if the p-value is less than 0.01.\n",
    "\n",
    "Calculate the test statistic.\n",
    "\n",
    "The test statistic is the Welch's t-statistic, which is calculated as follows:\n",
    "\n",
    "t = (x̄1 - x̄2) / spool√n1/n2\n",
    "where\n",
    "\n",
    "x̄1 is the mean of the first group\n",
    "x̄2 is the mean of the second group\n",
    "spool is the pooled standard deviation, which is calculated as follows:\n",
    "spool = √(s1²/n1 + s2²/n2)\n",
    "s1 is the standard deviation of the first group\n",
    "s2 is the standard deviation of the second group\n",
    "n1 is the sample size of the first group\n",
    "n2 is the sample size of the second group\n",
    "In this case, we have:\n",
    "\n",
    "x̄1 = 80\n",
    "x̄2 = 75\n",
    "s1 = 10\n",
    "s2 = 8\n",
    "n1 = 30\n",
    "n2 = 40\n",
    "Therefore, the pooled standard deviation is calculated as follows:\n",
    "\n",
    "spool = √(10²/30 + 8²/40) = 9.21\n",
    "The Welch's t-statistic is then calculated as follows:\n",
    "\n",
    "t = (80 - 75) / 9.21√30/40 = 0.486\n",
    "Determine the p-value. The p-value is the probability of getting a Welch's t-statistic of 0.486 or more if the null hypothesis is true. We can find the p-value using a t-table or a statistical calculator. The p-value is 0.314.\n",
    "\n",
    "Make a decision. The p-value is greater than the significance level, so we fail to reject the null hypothesis. This means that there is not enough evidence to conclude that the population means for the two groups are not equal.\n",
    "\n",
    "In other words, we cannot say with 99% confidence that the mean test scores of the two groups are different."
   ]
  },
  {
   "cell_type": "markdown",
   "id": "a6df59c9-dd3f-49e7-815e-0ed2c5e6373c",
   "metadata": {},
   "source": [
    "### Q17. A marketing company wants to estimate the average number of ads watched by viewers during a TV program. They take a random sample of 50 viewers and find that the sample mean is 4 with a standard deviation of 1.5. Estimate the population mean with a 99% confidence interval."
   ]
  },
  {
   "cell_type": "markdown",
   "id": "c5b4a873-dda0-4dd6-b62f-9f2a9ae5f24f",
   "metadata": {},
   "source": [
    "### Ans:\n",
    "Identify the sample mean, the sample size, and the sample standard deviation. We have:\n",
    "\n",
    "Sample mean = 4\n",
    "Sample size = 50\n",
    "Sample standard deviation = 1.5\n",
    "Determine the confidence level. We are given a 99% confidence level, so α = 1 - 0.99 = 0.01.\n",
    "\n",
    "Find the critical value zα/2. For a 99% confidence level, zα/2 = 2.576.\n",
    "\n",
    "Calculate the margin of error.\n",
    "\n",
    "margin of error = zα/2 * σ/√n\n",
    "= 2.576 * 1.5/√50\n",
    "= 0.44\n",
    "Construct the confidence interval.\n",
    "confidence interval = (x̄ - margin of error, x̄ + margin of error)\n",
    "= (4 - 0.44, 4 + 0.44)\n",
    "= (3.56, 4.44)\n",
    "Therefore, we can be 99% confident that the population mean number of ads watched by viewers is between 3.56 and 4.44.\n",
    "\n",
    "In other words, if we were to take many samples of 50 viewers, 99% of the confidence intervals we would construct would contain the true population mean number of ads watched."
   ]
  },
  {
   "cell_type": "code",
   "execution_count": null,
   "id": "6dc124fa-dc92-467d-a8cc-b0c7e84020e1",
   "metadata": {},
   "outputs": [],
   "source": []
  }
 ],
 "metadata": {
  "kernelspec": {
   "display_name": "Python 3 (ipykernel)",
   "language": "python",
   "name": "python3"
  },
  "language_info": {
   "codemirror_mode": {
    "name": "ipython",
    "version": 3
   },
   "file_extension": ".py",
   "mimetype": "text/x-python",
   "name": "python",
   "nbconvert_exporter": "python",
   "pygments_lexer": "ipython3",
   "version": "3.10.8"
  }
 },
 "nbformat": 4,
 "nbformat_minor": 5
}
