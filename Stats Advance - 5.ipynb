{
 "cells": [
  {
   "cell_type": "markdown",
   "id": "16d24b14-62c2-47d0-894a-8abac0a0c5a2",
   "metadata": {},
   "source": [
    "Q1. Calculate the 95% confidence interval for a sample of data with a mean of 50 and a standard deviation\n",
    "of 5 using Python. Interpret the results."
   ]
  },
  {
   "cell_type": "code",
   "execution_count": 1,
   "id": "21ec336d-ff38-49cc-ae3c-830426e217e1",
   "metadata": {},
   "outputs": [
    {
     "name": "stdout",
     "output_type": "stream",
     "text": [
      "95% Confidence Interval:\n",
      "Lower Bound: 49.00789152424566\n",
      "Upper Bound: 50.99210847575434\n"
     ]
    }
   ],
   "source": [
    "import numpy as np\n",
    "from scipy import stats\n",
    "\n",
    "# Sample data\n",
    "sample_mean = 50  # Sample mean\n",
    "sample_std_dev = 5  # Sample standard deviation\n",
    "sample_size = 100  # Sample size\n",
    "\n",
    "# Calculate the standard error (standard deviation of the sample mean)\n",
    "standard_error = sample_std_dev / np.sqrt(sample_size)\n",
    "\n",
    "# Set the confidence level and degrees of freedom\n",
    "confidence_level = 0.95\n",
    "degrees_of_freedom = sample_size - 1\n",
    "\n",
    "# Calculate the t-value for the given confidence level and degrees of freedom\n",
    "t_value = stats.t.ppf((1 + confidence_level) / 2, degrees_of_freedom)\n",
    "\n",
    "# Calculate the margin of error\n",
    "margin_of_error = t_value * standard_error\n",
    "\n",
    "# Calculate the confidence interval\n",
    "lower_bound = sample_mean - margin_of_error\n",
    "upper_bound = sample_mean + margin_of_error\n",
    "\n",
    "# Print the results\n",
    "print(\"95% Confidence Interval:\")\n",
    "print(\"Lower Bound:\", lower_bound)\n",
    "print(\"Upper Bound:\", upper_bound)\n"
   ]
  },
  {
   "cell_type": "markdown",
   "id": "2363c50d-a4d9-41fd-a74b-519923bc5a9a",
   "metadata": {},
   "source": [
    "This script calculates the 95% confidence interval for a given sample mean, standard deviation, and sample size using the t-distribution.\n",
    "\n",
    "Interpretation:\n",
    "\n",
    "The 95% confidence interval is an estimate of the range within which we are 95% confident that the true population mean lies.\n",
    "In this case, the true population mean is estimated to be between the lower and upper bounds of the confidence interval, with a confidence level of 95%.\n",
    "The margin of error (half the width of the interval) represents the precision of the estimate. A smaller margin of error indicates a more precise estimate of the population mean."
   ]
  },
  {
   "cell_type": "markdown",
   "id": "f1de91c8-4731-48af-8e46-08ab7009f197",
   "metadata": {},
   "source": [
    "Q2. Conduct a chi-square goodness of fit test to determine if the distribution of colors of M&Ms in a bag\n",
    "matches the expected distribution of 20% blue, 20% orange, 20% green, 10% yellow, 10% red, and 20%\n",
    "brown. Use Python to perform the test with a significance level of 0.05."
   ]
  },
  {
   "cell_type": "code",
   "execution_count": 3,
   "id": "aae1809c-1a6b-4b80-8c8a-2a109ed6fb40",
   "metadata": {},
   "outputs": [
    {
     "name": "stdout",
     "output_type": "stream",
     "text": [
      "Chi-square statistic: 5.3125\n",
      "P-value: 0.3789440218411812\n",
      "The distribution of colors of M&Ms matches the expected distribution (fail to reject null hypothesis).\n"
     ]
    }
   ],
   "source": [
    "import numpy as np\n",
    "from scipy.stats import chisquare\n",
    "\n",
    "# Observed frequencies (counts) for each color\n",
    "observed_counts = np.array([50, 45, 40, 20, 25, 60])  # Blue, Orange, Green, Yellow, Red, Brown\n",
    "\n",
    "# Expected frequencies based on the given distribution\n",
    "total_count = sum(observed_counts)\n",
    "expected_counts = np.array([0.2, 0.2, 0.2, 0.1, 0.1, 0.2]) * total_count\n",
    "\n",
    "# Perform the chi-square goodness of fit test\n",
    "chi2_stat, p_val = chisquare(observed_counts, f_exp=expected_counts)\n",
    "\n",
    "# Significance level\n",
    "alpha = 0.05\n",
    "\n",
    "# Print the results\n",
    "print(\"Chi-square statistic:\", chi2_stat)\n",
    "print(\"P-value:\", p_val)\n",
    "\n",
    "# Compare p-value with the significance level\n",
    "if p_val < alpha:\n",
    "    print(\"The distribution of colors of M&Ms does not match the expected distribution (reject null hypothesis).\")\n",
    "else:\n",
    "    print(\"The distribution of colors of M&Ms matches the expected distribution (fail to reject null hypothesis).\")\n"
   ]
  },
  {
   "cell_type": "markdown",
   "id": "939b3966-6d05-4db5-857d-afda4dfdd188",
   "metadata": {},
   "source": [
    "Interpretation:\n",
    "\n",
    "The 95% confidence interval is an estimate of the range within which we are 95% confident that the true population mean lies.\n",
    "In this case, the true population mean is estimated to be between the lower and upper bounds of the confidence interval, with a confidence level of 95%.\n",
    "The margin of error (half the width of the interval) represents the precision of the estimate. A smaller margin of error indicates a more precise estimate of the population mean."
   ]
  },
  {
   "cell_type": "markdown",
   "id": "2b664100-2ace-4f81-b64f-a843d3f532ca",
   "metadata": {},
   "source": [
    "Q3. Use Python to calculate the chi-square statistic and p-value for a contingency table with the following\n",
    "data:\n",
    "        Group A  Group B\n",
    "\n",
    "Outcome1   20      15\n",
    "Outcome2   10      25\n",
    "Outcome3   15      20\n",
    "Interpret the results of the test."
   ]
  },
  {
   "cell_type": "code",
   "execution_count": 4,
   "id": "a5eafc19-9eaf-4fa7-ade9-bb7815ea3d6d",
   "metadata": {},
   "outputs": [
    {
     "name": "stdout",
     "output_type": "stream",
     "text": [
      "Chi-square statistic: 5.833333333333334\n",
      "P-value: 0.05411376622282158\n",
      "The relationship between the groups and outcomes is not significant (fail to reject null hypothesis).\n"
     ]
    }
   ],
   "source": [
    "import numpy as np\n",
    "from scipy.stats import chi2_contingency\n",
    "\n",
    "# Create the contingency table\n",
    "contingency_table = np.array([[20, 15], [10, 25], [15, 20]])\n",
    "\n",
    "# Perform the chi-square test\n",
    "chi2_stat, p_val, dof, expected = chi2_contingency(contingency_table)\n",
    "\n",
    "# Significance level\n",
    "alpha = 0.05\n",
    "\n",
    "# Print the results\n",
    "print(\"Chi-square statistic:\", chi2_stat)\n",
    "print(\"P-value:\", p_val)\n",
    "\n",
    "# Compare p-value with the significance level\n",
    "if p_val < alpha:\n",
    "    print(\"The relationship between the groups and outcomes is significant (reject null hypothesis).\")\n",
    "else:\n",
    "    print(\"The relationship between the groups and outcomes is not significant (fail to reject null hypothesis).\")\n"
   ]
  },
  {
   "cell_type": "markdown",
   "id": "3f454ef9-06df-4a0a-a29c-65208526a9df",
   "metadata": {},
   "source": [
    "We define the contingency table based on the provided data.\n",
    "We perform the chi-square test using chi2_contingency from scipy.stats.\n",
    "Finally, we interpret the results based on the p-value and the chosen significance level (alpha).\n"
   ]
  },
  {
   "cell_type": "markdown",
   "id": "ea0801b4-60b0-48a3-84ee-8d07a63147e6",
   "metadata": {},
   "source": [
    "Q4. A study of the prevalence of smoking in a population of 500 individuals found that 60 individuals\n",
    "smoked. Use Python to calculate the 95% confidence interval for the true proportion of individuals in the\n",
    "population who smoke."
   ]
  },
  {
   "cell_type": "code",
   "execution_count": 5,
   "id": "2344f020-88b5-417c-8c4b-214fae7d67e5",
   "metadata": {},
   "outputs": [
    {
     "name": "stdout",
     "output_type": "stream",
     "text": [
      "95% Confidence Interval for the true proportion of smokers:\n",
      "Lower Bound: 0.09151638887130707\n",
      "Upper Bound: 0.1484836111286929\n"
     ]
    }
   ],
   "source": [
    "import numpy as np\n",
    "from scipy.stats import norm\n",
    "\n",
    "# Given data\n",
    "total_population = 500\n",
    "smokers = 60\n",
    "\n",
    "# Calculate the sample proportion\n",
    "sample_proportion = smokers / total_population\n",
    "\n",
    "# Z-value for 95% confidence level\n",
    "z_value = norm.ppf(0.975)  # For a two-tailed test and 95% confidence\n",
    "\n",
    "# Calculate the margin of error\n",
    "margin_of_error = z_value * np.sqrt((sample_proportion * (1 - sample_proportion)) / total_population)\n",
    "\n",
    "# Calculate the confidence interval\n",
    "lower_bound = sample_proportion - margin_of_error\n",
    "upper_bound = sample_proportion + margin_of_error\n",
    "\n",
    "# Print the results\n",
    "print(\"95% Confidence Interval for the true proportion of smokers:\")\n",
    "print(\"Lower Bound:\", lower_bound)\n",
    "print(\"Upper Bound:\", upper_bound)\n"
   ]
  },
  {
   "cell_type": "markdown",
   "id": "85686473-9bec-4676-973c-72aaf8ff3878",
   "metadata": {},
   "source": [
    "Q5. Calculate the 90% confidence interval for a sample of data with a mean of 75 and a standard deviation\n",
    "of 12 using Python. Interpret the results."
   ]
  },
  {
   "cell_type": "code",
   "execution_count": 6,
   "id": "32a1b807-6479-4391-8170-9ef026867542",
   "metadata": {},
   "outputs": [
    {
     "name": "stdout",
     "output_type": "stream",
     "text": [
      "90% Confidence Interval for the sample mean:\n",
      "Lower Bound: 73.026\n",
      "Upper Bound: 76.974\n"
     ]
    }
   ],
   "source": [
    "import numpy as np\n",
    "\n",
    "# Given data\n",
    "sample_mean = 75  # Sample mean\n",
    "population_std_dev = 12  # Population standard deviation\n",
    "sample_size = 100  # Sample size\n",
    "\n",
    "# Z-value for a 90% confidence level\n",
    "z_value = 1.645\n",
    "\n",
    "# Calculate the margin of error\n",
    "margin_of_error = z_value * (population_std_dev / np.sqrt(sample_size))\n",
    "\n",
    "# Calculate the confidence interval\n",
    "lower_bound = sample_mean - margin_of_error\n",
    "upper_bound = sample_mean + margin_of_error\n",
    "\n",
    "# Print the results\n",
    "print(\"90% Confidence Interval for the sample mean:\")\n",
    "print(\"Lower Bound:\", lower_bound)\n",
    "print(\"Upper Bound:\", upper_bound)\n"
   ]
  },
  {
   "cell_type": "markdown",
   "id": "423b10d4-06de-492e-a21a-709fdaa5b597",
   "metadata": {},
   "source": [
    "Q6. Use Python to plot the chi-square distribution with 10 degrees of freedom. Label the axes and shade the\n",
    "area corresponding to a chi-square statistic of 15."
   ]
  },
  {
   "cell_type": "code",
   "execution_count": 7,
   "id": "dacbe6a0-fc17-485b-b4ec-9b72a7219b73",
   "metadata": {},
   "outputs": [
    {
     "data": {
      "image/png": "[encoded data removed]",
      "text/plain": [
       "<Figure size 640x480 with 1 Axes>"
      ]
     },
     "metadata": {},
     "output_type": "display_data"
    }
   ],
   "source": [
    "import numpy as np\n",
    "import matplotlib.pyplot as plt\n",
    "from scipy.stats import chi2\n",
    "\n",
    "# Degrees of freedom\n",
    "df = 10\n",
    "\n",
    "# Generate chi-square distribution values\n",
    "x = np.linspace(0, 30, 400)  # Generate x values from 0 to 30\n",
    "y = chi2.pdf(x, df)  # Calculate the chi-square probability density function\n",
    "\n",
    "# Plot the chi-square distribution\n",
    "plt.plot(x, y, label=f'Chi-square with {df} degrees of freedom')\n",
    "\n",
    "# Shade the area for chi-square statistic of 15\n",
    "x_shaded = np.linspace(0, 15, 100)\n",
    "y_shaded = chi2.pdf(x_shaded, df)\n",
    "plt.fill_between(x_shaded, y_shaded, color='gray', alpha=0.5, label='Shaded Area (chi-square statistic of 15)')\n",
    "\n",
    "# Label the axes and add a legend\n",
    "plt.xlabel('Chi-square Statistic')\n",
    "plt.ylabel('Probability Density Function')\n",
    "plt.legend()\n",
    "\n",
    "# Show the plot\n",
    "plt.title('Chi-square Distribution with Shaded Area for chi-square statistic of 15')\n",
    "plt.grid(True)\n",
    "plt.show()\n"
   ]
  },
  {
   "cell_type": "markdown",
   "id": "8a80c2ab-e030-4401-9885-bca9e156eb49",
   "metadata": {},
   "source": [
    "Q7. A random sample of 1000 people was asked if they preferred Coke or Pepsi. Of the sample, 520\n",
    "preferred Coke. Calculate a 99% confidence interval for the true proportion of people in the population who\n",
    "prefer Coke."
   ]
  },
  {
   "cell_type": "code",
   "execution_count": 8,
   "id": "59cff645-01cb-4a97-8612-e456e64acc86",
   "metadata": {},
   "outputs": [
    {
     "name": "stdout",
     "output_type": "stream",
     "text": [
      "99% Confidence Interval for the true proportion of people who prefer Coke:\n",
      "Lower Bound: 0.4793051576779699\n",
      "Upper Bound: 0.5606948423220302\n"
     ]
    }
   ],
   "source": [
    "import numpy as np\n",
    "from scipy.stats import norm\n",
    "\n",
    "# Given data\n",
    "total_sample_size = 1000\n",
    "people_prefer_coke = 520\n",
    "\n",
    "# Calculate the sample proportion\n",
    "sample_proportion = people_prefer_coke / total_sample_size\n",
    "\n",
    "# Z-value for a 99% confidence level\n",
    "z_value = norm.ppf(0.995)  # For a two-tailed test and 99% confidence\n",
    "\n",
    "# Calculate the margin of error\n",
    "margin_of_error = z_value * np.sqrt((sample_proportion * (1 - sample_proportion)) / total_sample_size)\n",
    "\n",
    "# Calculate the confidence interval\n",
    "lower_bound = sample_proportion - margin_of_error\n",
    "upper_bound = sample_proportion + margin_of_error\n",
    "\n",
    "# Print the results\n",
    "print(\"99% Confidence Interval for the true proportion of people who prefer Coke:\")\n",
    "print(\"Lower Bound:\", lower_bound)\n",
    "print(\"Upper Bound:\", upper_bound)\n"
   ]
  },
  {
   "cell_type": "markdown",
   "id": "e5e2cd59-f22c-4b48-afbd-34e4a62f39a9",
   "metadata": {},
   "source": [
    "Q8. A researcher hypothesizes that a coin is biased towards tails. They flip the coin 100 times and observe\n",
    "45 tails. Conduct a chi-square goodness of fit test to determine if the observed frequencies match the\n",
    "expected frequencies of a fair coin. Use a significance level of 0.05."
   ]
  },
  {
   "cell_type": "markdown",
   "id": "41d90808-cb22-40d5-9a71-88b820c1c9e0",
   "metadata": {},
   "source": [
    "Formulate Hypotheses:\n",
    "\n",
    "Null Hypothesis (\n",
    "�\n",
    "0\n",
    "H \n",
    "0\n",
    "​\n",
    " ): The coin is fair (the observed frequencies match the expected frequencies of a fair coin).\n",
    "Alternative Hypothesis (\n",
    "�\n",
    "1\n",
    "H \n",
    "1\n",
    "​\n",
    " ): The coin is biased towards tails (the observed frequencies do not match the expected frequencies of a fair coin).\n",
    "Define Expected Frequencies:\n",
    "\n",
    "For a fair coin, the expected frequency of each outcome (heads or tails) in 100 coin flips is 50.\n",
    "Calculate the Chi-Square Statistic:\n",
    "\n",
    "�\n",
    "2\n",
    "=\n",
    "∑\n",
    "(\n",
    "�\n",
    "�\n",
    "−\n",
    "�\n",
    "�\n",
    ")\n",
    "2\n",
    "�\n",
    "�\n",
    "χ \n",
    "2\n",
    " =∑ \n",
    "E \n",
    "i\n",
    "​\n",
    " \n",
    "(O \n",
    "i\n",
    "​\n",
    " −E \n",
    "i\n",
    "​\n",
    " ) \n",
    "2\n",
    " \n",
    "​\n",
    " \n",
    "�\n",
    "�\n",
    "O \n",
    "i\n",
    "​\n",
    "  is the observed frequency, and \n",
    "�\n",
    "�\n",
    "E \n",
    "i\n",
    "​\n",
    "  is the expected frequency.\n",
    "Determine the Degrees of Freedom:\n",
    "\n",
    "For a goodness of fit test with a coin (2 categories: heads and tails), the degrees of freedom (\n",
    "�\n",
    "�\n",
    "df) is \n",
    "�\n",
    "−\n",
    "1\n",
    "n−1 where \n",
    "�\n",
    "n is the number of categories (2 in this case).\n",
    "Find the Critical Chi-Square Value:\n",
    "\n",
    "Based on the degrees of freedom and the significance level (\n",
    "�\n",
    "α) of 0.05.\n",
    "Compare the Chi-Square Statistic and Critical Value:\n",
    "\n",
    "If the chi-square statistic is greater than the critical value, we reject the null hypothesis"
   ]
  },
  {
   "cell_type": "code",
   "execution_count": 9,
   "id": "67c9fe42-eb39-4d99-b0b0-c91ed455bd17",
   "metadata": {},
   "outputs": [
    {
     "name": "stdout",
     "output_type": "stream",
     "text": [
      "Chi-square Statistic: 0.5\n",
      "Critical Chi-square Value: 3.841458820694124\n",
      "The coin is fair (fail to reject null hypothesis).\n"
     ]
    }
   ],
   "source": [
    "import numpy as np\n",
    "from scipy.stats import chi2\n",
    "\n",
    "# Given data\n",
    "observed_tails = 45\n",
    "total_flips = 100\n",
    "expected_tails = total_flips / 2  # For a fair coin\n",
    "\n",
    "# Calculate the chi-square statistic\n",
    "chi_square_statistic = ((observed_tails - expected_tails) ** 2) / expected_tails\n",
    "\n",
    "# Degrees of freedom\n",
    "df = 1  # 2 categories (tails and heads) - 1\n",
    "\n",
    "# Find the critical chi-square value for alpha = 0.05 and df = 1\n",
    "critical_chi_square_value = chi2.ppf(0.95, df)\n",
    "\n",
    "# Print the results\n",
    "print(\"Chi-square Statistic:\", chi_square_statistic)\n",
    "print(\"Critical Chi-square Value:\", critical_chi_square_value)\n",
    "\n",
    "# Compare the chi-square statistic with the critical value\n",
    "if chi_square_statistic > critical_chi_square_value:\n",
    "    print(\"The coin is biased towards tails (reject null hypothesis).\")\n",
    "else:\n",
    "    print(\"The coin is fair (fail to reject null hypothesis).\")\n"
   ]
  },
  {
   "cell_type": "markdown",
   "id": "077ff02c-37cf-4a82-9e02-6d5298fbbd8b",
   "metadata": {},
   "source": [
    "Q9. A study was conducted to determine if there is an association between smoking status (smoker or\n",
    "non-smoker) and lung cancer diagnosis (yes or no). The results are shown in the contingency table below.\n",
    "Conduct a chi-square test for independence to determine if there is a significant association between\n",
    "smoking status and lung cancer diagnosis.\n",
    "Lung Cancer: Yes   Lung Cancer: No\n",
    "\n",
    "Smoker 60 140\n",
    "Non-smoker 30 170\n",
    "\n",
    "Use a significance level of 0.05."
   ]
  },
  {
   "cell_type": "markdown",
   "id": "271f8f7a-38dd-41e4-ba93-9f6e8d60fbca",
   "metadata": {},
   "source": [
    "Formulate Hypotheses:\n",
    "\n",
    "Null Hypothesis (\n",
    "�\n",
    "0\n",
    "H \n",
    "0\n",
    "​\n",
    " ): There is no association between smoking status and lung cancer diagnosis.\n",
    "Alternative Hypothesis (\n",
    "�\n",
    "1\n",
    "H \n",
    "1\n",
    "​\n",
    " ): There is an association between smoking status and lung cancer diagnosis.\n",
    "Create the Contingency Table:\n",
    "\n",
    "Based on the given information.\n",
    "Calculate the Expected Frequencies:\n",
    "\n",
    "Assuming no association, calculate the expected frequencies for each cell in the contingency table.\n",
    "Calculate the Chi-Square Statistic:\n",
    "\n",
    "Using the observed and expected frequencies.\n",
    "Determine the Degrees of Freedom:\n",
    "\n",
    "�\n",
    "�\n",
    "=\n",
    "(\n",
    "�\n",
    "−\n",
    "1\n",
    ")\n",
    "×\n",
    "(\n",
    "�\n",
    "−\n",
    "1\n",
    ")\n",
    "df=(R−1)×(C−1), where \n",
    "�\n",
    "R is the number of rows and \n",
    "�\n",
    "C is the number of columns in the contingency table.\n",
    "Find the Critical Chi-Square Value:\n",
    "\n",
    "Based on the degrees of freedom and the significance level (\n",
    "�\n",
    "α) of 0.05.\n",
    "Compare the Chi-Square Statistic and Critical Value:\n",
    "\n",
    "If the chi-square statistic is greater than the critical value, we reject the null hypothesis."
   ]
  },
  {
   "cell_type": "code",
   "execution_count": 10,
   "id": "7c6f5ddb-dfe7-47e8-9c6b-6aa42570a1bf",
   "metadata": {},
   "outputs": [
    {
     "name": "stdout",
     "output_type": "stream",
     "text": [
      "Chi-square Statistic: 12.057347670250895\n",
      "P-value: 0.0005158863863703744\n",
      "There is a significant association between smoking status and lung cancer diagnosis (reject null hypothesis).\n"
     ]
    }
   ],
   "source": [
    "import numpy as np\n",
    "from scipy.stats import chi2_contingency\n",
    "\n",
    "# Given contingency table\n",
    "observed = np.array([[60, 140], [30, 170]])\n",
    "\n",
    "# Perform the chi-square test for independence\n",
    "chi2_stat, p_val, dof, expected = chi2_contingency(observed)\n",
    "\n",
    "# Significance level\n",
    "alpha = 0.05\n",
    "\n",
    "# Print the results\n",
    "print(\"Chi-square Statistic:\", chi2_stat)\n",
    "print(\"P-value:\", p_val)\n",
    "\n",
    "# Compare p-value with the significance level\n",
    "if p_val < alpha:\n",
    "    print(\"There is a significant association between smoking status and lung cancer diagnosis (reject null hypothesis).\")\n",
    "else:\n",
    "    print(\"There is no significant association between smoking status and lung cancer diagnosis (fail to reject null hypothesis).\")\n"
   ]
  },
  {
   "cell_type": "markdown",
   "id": "45736627-6055-4945-b36a-531d364e481d",
   "metadata": {},
   "source": [
    "Q10. A study was conducted to determine if the proportion of people who prefer milk chocolate, dark\n",
    "chocolate, or white chocolate is different in the U.S. versus the U.K. A random sample of 500 people from\n",
    "the U.S. and a random sample of 500 people from the U.K. were surveyed. The results are shown in the\n",
    "contingency table below. Conduct a chi-square test for independence to determine if there is a significant\n",
    "association between chocolate preference and country of origin.\n",
    "\n",
    "Milk Chocolate    Dark Chocolate   White Chocolate\n",
    "\n",
    "U.S. (n=500) 200 150 150\n",
    "U.K. (n=500) 225 175 100\n",
    "\n",
    "\n",
    "Use a significance level of 0.01."
   ]
  },
  {
   "cell_type": "markdown",
   "id": "864ec9ff-8c6f-42b3-9774-68816d781093",
   "metadata": {},
   "source": [
    "Formulate Hypotheses:\n",
    "\n",
    "Null Hypothesis (\n",
    "�\n",
    "0\n",
    "H \n",
    "0\n",
    "​\n",
    " ): There is no association between chocolate preference and country of origin.\n",
    "Alternative Hypothesis (\n",
    "�\n",
    "1\n",
    "H \n",
    "1\n",
    "​\n",
    " ): There is an association between chocolate preference and country of origin.\n",
    "Create the Contingency Table:\n",
    "\n",
    "Based on the given information.\n",
    "Calculate the Expected Frequencies:\n",
    "\n",
    "Assuming no association, calculate the expected frequencies for each cell in the contingency table.\n",
    "Calculate the Chi-Square Statistic:\n",
    "\n",
    "Using the observed and expected frequencies.\n",
    "Determine the Degrees of Freedom:\n",
    "\n",
    "�\n",
    "�\n",
    "=\n",
    "(\n",
    "�\n",
    "−\n",
    "1\n",
    ")\n",
    "×\n",
    "(\n",
    "�\n",
    "−\n",
    "1\n",
    ")\n",
    "df=(R−1)×(C−1), where \n",
    "�\n",
    "R is the number of rows and \n",
    "�\n",
    "C is the number of columns in the contingency table.\n",
    "Find the Critical Chi-Square Value:\n",
    "\n",
    "Based on the degrees of freedom and the significance level (\n",
    "�\n",
    "α) of 0.01.\n",
    "Compare the Chi-Square Statistic and Critical Value:\n",
    "\n",
    "If the chi-square statistic is greater than the critical value, we reject the null hypothesis."
   ]
  },
  {
   "cell_type": "code",
   "execution_count": 11,
   "id": "a70557ef-256b-4ff6-97d1-fecdb9a8a169",
   "metadata": {},
   "outputs": [
    {
     "name": "stdout",
     "output_type": "stream",
     "text": [
      "Chi-square Statistic: 13.393665158371041\n",
      "P-value: 0.0012348168997745918\n",
      "There is a significant association between chocolate preference and country of origin (reject null hypothesis).\n"
     ]
    }
   ],
   "source": [
    "import numpy as np\n",
    "from scipy.stats import chi2_contingency\n",
    "\n",
    "# Given contingency table\n",
    "observed = np.array([[200, 150, 150], [225, 175, 100]])\n",
    "\n",
    "# Perform the chi-square test for independence\n",
    "chi2_stat, p_val, dof, expected = chi2_contingency(observed)\n",
    "\n",
    "# Significance level\n",
    "alpha = 0.01\n",
    "\n",
    "# Print the results\n",
    "print(\"Chi-square Statistic:\", chi2_stat)\n",
    "print(\"P-value:\", p_val)\n",
    "\n",
    "# Compare p-value with the significance level\n",
    "if p_val < alpha:\n",
    "    print(\"There is a significant association between chocolate preference and country of origin (reject null hypothesis).\")\n",
    "else:\n",
    "    print(\"There is no significant association between chocolate preference and country of origin (fail to reject null hypothesis).\")\n"
   ]
  },
  {
   "cell_type": "markdown",
   "id": "15b5ee1f-b28e-4fe1-a518-5f528b4f82a0",
   "metadata": {},
   "source": [
    "Q11. A random sample of 30 people was selected from a population with an unknown mean and standard\n",
    "deviation. The sample mean was found to be 72 and the sample standard deviation was found to be 10.\n",
    "Conduct a hypothesis test to determine if the population mean is significantly different from 70. Use a\n",
    "significance level of 0.05."
   ]
  },
  {
   "cell_type": "markdown",
   "id": "b9fa4bf5-ba8f-453b-83c5-1a856c3ade34",
   "metadata": {},
   "source": [
    "Formulate Hypotheses:\n",
    "\n",
    "Null Hypothesis (\n",
    "�\n",
    "0\n",
    "H \n",
    "0\n",
    "​\n",
    " ): The population mean is 70 (\n",
    "�\n",
    "=\n",
    "70\n",
    "μ=70).\n",
    "Alternative Hypothesis (\n",
    "�\n",
    "1\n",
    "H \n",
    "1\n",
    "​\n",
    " ): The population mean is different from 70 (\n",
    "�\n",
    "≠\n",
    "70\n",
    "μ\n",
    "\n",
    "=70).\n",
    "Calculate the T-Statistic:\n",
    "\n",
    "�\n",
    "=\n",
    "(\n",
    "�\n",
    "ˉ\n",
    "−\n",
    "�\n",
    ")\n",
    "�\n",
    "�\n",
    "t= \n",
    "n\n",
    "​\n",
    " \n",
    "s\n",
    "​\n",
    " \n",
    "( \n",
    "x\n",
    "ˉ\n",
    " −μ)\n",
    "​\n",
    " , where \n",
    "�\n",
    "ˉ\n",
    "x\n",
    "ˉ\n",
    "  is the sample mean, \n",
    "�\n",
    "μ is the population mean under the null hypothesis, \n",
    "�\n",
    "s is the sample standard deviation, and \n",
    "�\n",
    "n is the sample size.\n",
    "Determine Degrees of Freedom:\n",
    "\n",
    "�\n",
    "�\n",
    "=\n",
    "�\n",
    "−\n",
    "1\n",
    "df=n−1, where \n",
    "�\n",
    "n is the sample size.\n",
    "Find the Critical T-Value:\n",
    "\n",
    "Based on the degrees of freedom and the significance level (\n",
    "�\n",
    "α) of 0.05.\n",
    "Compare the T-Statistic and Critical Value:\n",
    "\n",
    "If the absolute value of the t-statistic is greater than the critical t-value, we reject the null hypothesis."
   ]
  },
  {
   "cell_type": "code",
   "execution_count": 12,
   "id": "035234a8-b6a8-4b67-ab69-bea6ff42f7ce",
   "metadata": {},
   "outputs": [
    {
     "name": "stdout",
     "output_type": "stream",
     "text": [
      "T-Statistic: 1.0954451150103321\n",
      "Critical T-Value: 2.045229642132703\n",
      "The population mean is not significantly different from 70 (fail to reject null hypothesis).\n"
     ]
    }
   ],
   "source": [
    "import numpy as np\n",
    "from scipy.stats import t\n",
    "\n",
    "# Given data\n",
    "sample_mean = 72\n",
    "population_mean = 70\n",
    "sample_std_dev = 10\n",
    "sample_size = 30\n",
    "\n",
    "# Calculate the t-statistic\n",
    "t_statistic = (sample_mean - population_mean) / (sample_std_dev / np.sqrt(sample_size))\n",
    "\n",
    "# Degrees of freedom\n",
    "df = sample_size - 1\n",
    "\n",
    "# Find the critical t-values for a two-tailed test and alpha = 0.05\n",
    "critical_t_value = t.ppf(1 - 0.025, df)  # Since it's a two-tailed test\n",
    "\n",
    "# Significance level\n",
    "alpha = 0.05\n",
    "\n",
    "# Print the results\n",
    "print(\"T-Statistic:\", t_statistic)\n",
    "print(\"Critical T-Value:\", critical_t_value)\n",
    "\n",
    "# Compare the t-statistic with the critical t-value\n",
    "if np.abs(t_statistic) > critical_t_value:\n",
    "    print(\"The population mean is significantly different from 70 (reject null hypothesis).\")\n",
    "else:\n",
    "    print(\"The population mean is not significantly different from 70 (fail to reject null hypothesis).\")\n"
   ]
  },
  {
   "cell_type": "code",
   "execution_count": null,
   "id": "2100c022-3c7b-4dd6-9163-d139b4bed74b",
   "metadata": {},
   "outputs": [],
   "source": []
  }
 ],
 "metadata": {
  "kernelspec": {
   "display_name": "Python 3 (ipykernel)",
   "language": "python",
   "name": "python3"
  },
  "language_info": {
   "codemirror_mode": {
    "name": "ipython",
    "version": 3
   },
   "file_extension": ".py",
   "mimetype": "text/x-python",
   "name": "python",
   "nbconvert_exporter": "python",
   "pygments_lexer": "ipython3",
   "version": "3.10.8"
  }
 },
 "nbformat": 4,
 "nbformat_minor": 5
}
