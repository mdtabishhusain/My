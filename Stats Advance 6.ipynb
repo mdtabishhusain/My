{
 "cells": [
  {
   "cell_type": "markdown",
   "id": "4789e979-3ab5-4b91-a8d0-226b9e13a5dd",
   "metadata": {},
   "source": [
    "Q1. Explain the assumptions required to use ANOVA and provide examples of violations that could impact\n",
    "the validity of the results."
   ]
  },
  {
   "cell_type": "markdown",
   "id": "6002b451-16cf-4f70-99ae-a7e7071796b4",
   "metadata": {},
   "source": [
    "Basic assumptions that must be satisfied in order to apply ANOVA test are:\n",
    "\tNormality of sampling distribution of means: The distribution of sample mean is normally distributed.\n",
    "\tAbsence of outliers: Outlying score need to be removed from dataset.\n",
    "\tHomogeneity of Variance: Each one of the population has same variance, i.e. σ_1^2=σ_2^2=σ_3^2. In other words population variance in different levels of each independent variable are equal.\n",
    "\tSamples are independent and random."
   ]
  },
  {
   "cell_type": "markdown",
   "id": "26fb6ab8-384b-4e76-bc7a-e1c82d224247",
   "metadata": {},
   "source": [
    "Q2. What are the three types of ANOVA, and in what situations would each be used?"
   ]
  },
  {
   "cell_type": "markdown",
   "id": "1e40a4c7-8123-4fa6-8787-77bcfc822deb",
   "metadata": {},
   "source": [
    "i.\tOne way ANOVA: One factor with at least 2 levels, these levels are independent. Example – Doctor want to test a new medication to decrease headache. They split the participants in 3 conditions [10 mg, 20 mg and 30 mg]. Doctor ask the participant to rate the headache on a scale of 1 – 10. Here medications of 10 mg, 20 mg and 30 mg are the factors (variables) and rate of headache after taking the medication are the levels. We can see each level is independent as each medication has its own property and impact so One way ANOVA can be applied on these type of datasets.\n",
    "ii.\tRepeated measures ANOVA: One factor with at least 2 levels, these levels are dependents. Example – 3 person, preparing for armed forces, practice running on daily basis. Their variation in distance is recorded for 3 days. Here running on each day is the factor and distance covered by each person are the levels. We can see distance covered by each person is dependent on distance covered by same person on previous day as he may got some injury or may be he was tired therefore next day distance reduced. So repeated measures ANOVA is applied on these type of datasets.\n",
    "iii.\tFactorial ANOVA: 2 or more factors each of which with at least 2 levels, these levels can be either independent or dependent. Considering the previous example, here gender is another factor added and on these type of datasets factorial ANOVA can be applied.\n"
   ]
  },
  {
   "cell_type": "markdown",
   "id": "baa0ec09-e51f-442f-862c-a120939c7a4d",
   "metadata": {},
   "source": [
    "Q3. What is the partitioning of variance in ANOVA, and why is it important to understand this concept?"
   ]
  },
  {
   "cell_type": "markdown",
   "id": "d22deaa1-7f46-469b-bf59-d05553af277d",
   "metadata": {},
   "source": [
    "The partitioning of variance in Analysis of Variance (ANOVA) refers to the breakdown of the total variance observed in the data into different components, each associated with specific sources of variation. These components help in understanding the overall variability in the dataset and can provide insights into the contributions of different factors or variables."
   ]
  },
  {
   "cell_type": "markdown",
   "id": "9999dbe9-b6e3-4562-9134-b6dbe49d833f",
   "metadata": {},
   "source": [
    "Q4. How would you calculate the total sum of squares (SST), explained sum of squares (SSE), and residual\n",
    "sum of squares (SSR) in a one-way ANOVA using Python?"
   ]
  },
  {
   "cell_type": "markdown",
   "id": "329fd59b-0d4f-4880-a43b-b0d7a4f58241",
   "metadata": {},
   "source": [
    "Total Sum of Squares (SST):\n",
    "SST represents the total variability in the dataset. It is the sum of squared differences between each data point and the overall mean of the dataset.\n",
    "\n",
    "�\n",
    "�\n",
    "�\n",
    "=\n",
    "∑\n",
    "�\n",
    "=\n",
    "1\n",
    "�\n",
    "(\n",
    "�\n",
    "�\n",
    "−\n",
    "�\n",
    "ˉ\n",
    ")\n",
    "2\n",
    "SST=∑ \n",
    "i=1\n",
    "N\n",
    "​\n",
    " (x \n",
    "i\n",
    "​\n",
    " − \n",
    "x\n",
    "ˉ\n",
    " ) \n",
    "2\n",
    " \n",
    "\n",
    "Explained Sum of Squares (SSE):\n",
    "SSE represents the variability explained by the model or treatment effect. It is the sum of squared differences between each group mean and the overall mean of the dataset, weighted by the group size.\n",
    "\n",
    "�\n",
    "�\n",
    "�\n",
    "=\n",
    "∑\n",
    "�\n",
    "=\n",
    "1\n",
    "�\n",
    "�\n",
    "�\n",
    "(\n",
    "�\n",
    "ˉ\n",
    "�\n",
    "−\n",
    "�\n",
    "ˉ\n",
    ")\n",
    "2\n",
    "SSE=∑ \n",
    "j=1\n",
    "k\n",
    "​\n",
    " n \n",
    "j\n",
    "​\n",
    " ( \n",
    "x\n",
    "ˉ\n",
    "  \n",
    "j\n",
    "​\n",
    " − \n",
    "x\n",
    "ˉ\n",
    " ) \n",
    "2\n",
    " \n",
    "\n",
    "Residual Sum of Squares (SSR):\n",
    "SSR represents the unexplained variability or residuals. It is the sum of squared differences between each data point and its respective group mean.\n",
    "\n",
    "�\n",
    "�\n",
    "�\n",
    "=\n",
    "∑\n",
    "�\n",
    "=\n",
    "1\n",
    "�\n",
    "∑\n",
    "�\n",
    "=\n",
    "1\n",
    "�\n",
    "�\n",
    "(\n",
    "�\n",
    "�\n",
    "�\n",
    "−\n",
    "�\n",
    "ˉ\n",
    "�\n",
    ")\n",
    "2\n",
    "SSR=∑ \n",
    "j=1\n",
    "k\n",
    "​\n",
    " ∑ \n",
    "i=1\n",
    "n \n",
    "j\n",
    "​\n",
    " \n",
    "​\n",
    " (x \n",
    "ij\n",
    "​\n",
    " − \n",
    "x\n",
    "ˉ\n",
    "  \n",
    "j\n",
    "​\n",
    " ) \n",
    "2"
   ]
  },
  {
   "cell_type": "code",
   "execution_count": 3,
   "id": "7e247662-6238-40b4-8950-e32cf424cf54",
   "metadata": {},
   "outputs": [
    {
     "name": "stdout",
     "output_type": "stream",
     "text": [
      "Total Sum of Squares (SST): 28.875\n",
      "Explained Sum of Squares (SSE): 14.208333333333332\n",
      "Residual Sum of Squares (SSR): 14.666666666666668\n"
     ]
    }
   ],
   "source": [
    "import numpy as np\n",
    "\n",
    "# Sample data grouped by categories (replace with your dataset)\n",
    "group_1 = [5, 7, 8, 4]\n",
    "group_2 = [6, 7, 9]\n",
    "group_3 = [3]\n",
    "\n",
    "# Combine data from all groups\n",
    "data = np.concatenate([group_1, group_2, group_3])\n",
    "\n",
    "# Calculate overall mean\n",
    "overall_mean = np.mean(data)\n",
    "\n",
    "# Total Sum of Squares (SST)\n",
    "SST = np.sum((data - overall_mean) ** 2)\n",
    "\n",
    "# Calculate group means\n",
    "group_means = [np.mean(group) for group in [group_1, group_2, group_3]]\n",
    "\n",
    "# Explained Sum of Squares (SSE)\n",
    "SSE = np.sum([len(group) * (group_mean - overall_mean) ** 2 for group, group_mean in zip([group_1, group_2, group_3], group_means)])\n",
    "\n",
    "# Residual Sum of Squares (SSR)\n",
    "SSR = SST - SSE\n",
    "\n",
    "print(\"Total Sum of Squares (SST):\", SST)\n",
    "print(\"Explained Sum of Squares (SSE):\", SSE)\n",
    "print(\"Residual Sum of Squares (SSR):\", SSR)\n"
   ]
  },
  {
   "cell_type": "markdown",
   "id": "d21057c4-9040-485d-815f-b85c0ef46550",
   "metadata": {},
   "source": [
    "Q5. In a two-way ANOVA, how would you calculate the main effects and interaction effects using Python?"
   ]
  },
  {
   "cell_type": "code",
   "execution_count": 4,
   "id": "9e0fd74c-285e-4307-9d2f-bcca96854c8f",
   "metadata": {},
   "outputs": [
    {
     "name": "stdout",
     "output_type": "stream",
     "text": [
      "Main Effect of Factor 1: 16.666666666666668\n",
      "Main Effect of Factor 2: 15.0\n",
      "Interaction Effect: 10\n"
     ]
    }
   ],
   "source": [
    "import numpy as np\n",
    "\n",
    "# Sample ANOVA results (replace with your ANOVA results)\n",
    "# For demonstration, we'll assume the ANOVA results include mean squares for each factor and interaction\n",
    "mean_square_factor1 = 50\n",
    "mean_square_factor2 = 30\n",
    "mean_square_interaction = 10\n",
    "\n",
    "# Number of levels for each factor\n",
    "levels_factor1 = 3  # Replace with the actual number of levels for factor 1\n",
    "levels_factor2 = 2  # Replace with the actual number of levels for factor 2\n",
    "\n",
    "# Calculate main effects\n",
    "main_effect_factor1 = mean_square_factor1 / levels_factor1\n",
    "main_effect_factor2 = mean_square_factor2 / levels_factor2\n",
    "\n",
    "# Calculate interaction effect\n",
    "interaction_effect = mean_square_interaction\n",
    "\n",
    "# Print the results\n",
    "print(\"Main Effect of Factor 1:\", main_effect_factor1)\n",
    "print(\"Main Effect of Factor 2:\", main_effect_factor2)\n",
    "print(\"Interaction Effect:\", interaction_effect)\n"
   ]
  },
  {
   "cell_type": "markdown",
   "id": "a56c852e-8a44-4ec7-b66f-f78a6c65dd8f",
   "metadata": {},
   "source": [
    "Q6. Suppose you conducted a one-way ANOVA and obtained an F-statistic of 5.23 and a p-value of 0.02.\n",
    "What can you conclude about the differences between the groups, and how would you interpret these\n",
    "results?"
   ]
  },
  {
   "cell_type": "markdown",
   "id": "73020d16-3a14-40ab-9499-24e210151217",
   "metadata": {},
   "source": [
    "In a one-way ANOVA, the F-statistic and associated p-value are used to determine whether there are statistically significant differences between the means of the groups. Let's interpret the results based on the given values:\n",
    "\n",
    "F-Statistic (5.23):\n",
    "\n",
    "The F-statistic measures the ratio of the variance between groups to the variance within groups. It quantifies the extent to which group means differ relative to the variability within each group.\n",
    "A higher F-statistic suggests that there may be significant differences between the groups.\n",
    "P-Value (0.02):\n",
    "\n",
    "The p-value is the probability of observing an F-statistic as extreme as the one obtained, assuming that there are no significant differences between the groups (i.e., under the null hypothesis).\n",
    "A smaller p-value indicates stronger evidence against the null hypothesis. In this case, a p-value of 0.02 suggests that the probability of observing such a result under the null hypothesis is 0.02, which is less than a typical significance level of 0.05.\n",
    "Interpretation:\n",
    "\n",
    "Based on the provided F-statistic of 5.23 and a p-value of 0.02:\n",
    "\n",
    "Statistical Significance: The p-value of 0.02 is less than the typical significance level (e.g., 0.05), indicating statistical significance. This means that there is strong evidence to reject the null hypothesis.\n",
    "\n",
    "Conclusion: We can conclude that there are statistically significant differences between at least some of the groups. In other words, there is evidence to suggest that not all group means are equal.\n",
    "\n",
    "Post-hoc Tests: To identify which specific groups differ from each other, post-hoc tests (e.g., Tukey's HSD, Bonferroni correction) can be conducted. These tests help pinpoint the pairwise differences between groups.\n",
    "\n",
    "Practical Significance: While the results are statistically significant, it's also important to consider whether the observed differences are practically significant. In some cases, statistically significant differences may not be practically meaningful, so it's essential to assess the effect size and the context of the study."
   ]
  },
  {
   "cell_type": "markdown",
   "id": "fa932028-67bc-47c9-8a71-3ad4848bb59d",
   "metadata": {},
   "source": [
    "Q7. In a repeated measures ANOVA, how would you handle missing data, and what are the potential\n",
    "consequences of using different methods to handle missing data?"
   ]
  },
  {
   "cell_type": "markdown",
   "id": "7a7d5853-bddc-4493-9ec6-6941ed24cffa",
   "metadata": {},
   "source": [
    "Handling missing data in a repeated measures ANOVA is important to ensure the validity and reliability of your analysis. There are several methods to handle missing data, and the choice of method can impact the results and conclusions of your analysis. Here are some common approaches to handling missing data in a repeated measures ANOVA and their potential consequences:\n",
    "\n",
    "Complete Case Analysis (Listwise Deletion):\n",
    "\n",
    "In this approach, any case (subject) with missing data on any variable is removed from the analysis.\n",
    "Consequences:\n",
    "Pros: Simple and easy to implement.\n",
    "Cons: Reduces the sample size, potentially leading to loss of statistical power and biased results if data are not missing completely at random (MCAR).\n",
    "Pairwise Deletion (Available Case Analysis):\n",
    "\n",
    "In this approach, cases with missing data are retained for analyses involving variables for which they have data, but not for variables with missing data.\n",
    "Consequences:\n",
    "Pros: Retains more data than complete case analysis.\n",
    "Cons: Can lead to inconsistent results across different analyses involving different subsets of cases. Standard errors may not reflect the true variability.\n",
    "Mean Imputation:\n",
    "\n",
    "Missing values are replaced with the mean of the observed values for that variable.\n",
    "Consequences:\n",
    "Pros: Simple and preserves the sample size.\n",
    "Cons: May introduce bias if missing data are not MCAR. It can underestimate variability and lead to incorrect standard errors and p-values.\n",
    "Interpolation or Regression Imputation:\n",
    "\n",
    "Missing values are estimated based on the relationship between variables using techniques like linear interpolation or regression.\n",
    "Consequences:\n",
    "Pros: Can provide more accurate imputations than mean imputation.\n",
    "Cons: Requires assumptions about the relationships between variables. Results may be sensitive to model assumptions.\n",
    "Multiple Imputation:\n",
    "\n",
    "Multiple imputations are generated, creating several complete datasets with imputed values. Analyses are conducted on each dataset, and the results are combined to provide valid estimates and standard errors.\n",
    "Consequences:\n",
    "Pros: Provides unbiased estimates and valid standard errors when missing data are missing at random (MAR). Accounts for uncertainty in imputations.\n",
    "Cons: More complex to implement than other methods.\n",
    "Maximum Likelihood Estimation (MLE):\n",
    "\n",
    "MLE is a statistical method that estimates model parameters while accounting for missing data. It is often used in software designed for repeated measures ANOVA.\n",
    "Consequences:\n",
    "Pros: Provides valid estimates when data are missing at random (MAR) and does not require imputations.\n",
    "Cons: May be computationally intensive and may require specific software.\n",
    "The choice of method for handling missing data should be based on the nature of the missing data (MCAR, MAR, or not missing at random), the amount of missing data, and the goals of the analysis. It is generally recommended to explore the reasons for missing data and assess the impact of different methods through sensitivity analyses to ensure the robustness of your findings."
   ]
  },
  {
   "cell_type": "markdown",
   "id": "ddf32bca-0560-447e-b1c0-ef84432043fc",
   "metadata": {},
   "source": [
    "Q8. What are some common post-hoc tests used after ANOVA, and when would you use each one? Provide\n",
    "an example of a situation where a post-hoc test might be necessary."
   ]
  },
  {
   "cell_type": "markdown",
   "id": "2bff0cca-9b0f-402b-9181-cb5c2d8c59d9",
   "metadata": {},
   "source": [
    "Post-hoc tests are used after conducting an ANOVA to determine specific differences between groups when the overall ANOVA indicates a significant difference. These tests help identify which specific group means are significantly different from each other. Some common post-hoc tests include:\n",
    "\n",
    "Tukey's Honestly Significant Difference (Tukey HSD):\n",
    "\n",
    "Use Case: Use when you have equal sample sizes and want to compare all possible pairs of group means.\n",
    "Example: After conducting an ANOVA comparing test scores of students in three different teaching methods (A, B, and C), Tukey HSD can be used to identify which teaching methods have significantly different mean scores.\n",
    "Bonferroni Correction:\n",
    "\n",
    "Use Case: Use when you want a more conservative approach to control for family-wise error rate.\n",
    "Example: Suppose you're comparing the effectiveness of four different diets in weight loss. Bonferroni correction can be used to identify which diets have significantly different mean weight loss while controlling for the increased chance of a Type I error.\n",
    "Scheffe's Method:\n",
    "\n",
    "Use Case: Use when you have unequal sample sizes and want a method that's more robust but less powerful compared to Tukey's HSD.\n",
    "Example: In a study comparing the average time taken to complete a task for three different software tools, Scheffe's method can help identify significant differences between the tools.\n",
    "Dunnett's Test:\n",
    "\n",
    "Use Case: Use when you have a control group and want to compare each treatment group against the control group.\n",
    "Example: In a pharmaceutical study comparing the effectiveness of different drug treatments against a placebo (control group), Dunnett's test can identify which drug treatments significantly differ from the placebo.\n",
    "Holm-Bonferroni Method:\n",
    "\n",
    "Use Case: Use when you want a method that controls the family-wise error rate similar to Bonferroni, but it can be more powerful.\n",
    "Example: In a study comparing the sales performance of multiple products, the Holm-Bonferroni method can be used to identify which products have significantly different mean sales.\n",
    "Example Scenario:\n",
    "Suppose you're a researcher studying the effect of three different training programs (A, B, and C) on employee productivity. You collect data on productivity scores for employees who undergo each training program. After conducting a one-way ANOVA, you find a significant difference in means (p < 0.05).\n",
    "\n",
    "Now, you want to identify which specific training programs lead to significantly different productivity scores. In this scenario, you would use a post-hoc test like Tukey's HSD or Scheffe's Method to compare the mean productivity scores of each training program against each other, allowing you to determine the significant differences and make informed comparisons.\n",
    "\n",
    "Post-hoc tests are crucial to provide deeper insights into specific group differences and guide appropriate actions or decisions based on the study's results."
   ]
  },
  {
   "cell_type": "markdown",
   "id": "96901aee-4e07-449d-9dc7-39398b47375d",
   "metadata": {},
   "source": [
    "Q9. A researcher wants to compare the mean weight loss of three diets: A, B, and C. They collect data from\n",
    "50 participants who were randomly assigned to one of the diets. Conduct a one-way ANOVA using Python\n",
    "to determine if there are any significant differences between the mean weight loss of the three diets.\n",
    "Report the F-statistic and p-value, and interpret the results."
   ]
  },
  {
   "cell_type": "code",
   "execution_count": 5,
   "id": "900588fe-038a-420e-882a-8f355377749b",
   "metadata": {},
   "outputs": [
    {
     "name": "stdout",
     "output_type": "stream",
     "text": [
      "F-Statistic: 1.5440673243376695\n",
      "p-value: 0.21695348931118832\n",
      "The p-value is greater than 0.05 so we fail to reject the null hypothesis.\n",
      "There is no significant difference between the mean weight loss of the diets.\n"
     ]
    }
   ],
   "source": [
    "import numpy as np\n",
    "import scipy.stats as stats\n",
    "\n",
    "# Sample weight loss data for each diet (replace with actual data)\n",
    "diet_a = np.random.normal(5, 2, 50)  # Mean weight loss: 5, Standard deviation: 2\n",
    "diet_b = np.random.normal(4.8, 1.8, 50)  # Mean weight loss: 4.8, Standard deviation: 1.8\n",
    "diet_c = np.random.normal(5.2, 2, 50)  # Mean weight loss: 5.2, Standard deviation: 2\n",
    "\n",
    "# Stack the data into one array\n",
    "data = np.concatenate([diet_a, diet_b, diet_c])\n",
    "\n",
    "# Create a corresponding grouping variable\n",
    "groups = ['A'] * 50 + ['B'] * 50 + ['C'] * 50\n",
    "\n",
    "# Perform the one-way ANOVA\n",
    "f_statistic, p_value = stats.f_oneway(diet_a, diet_b, diet_c)\n",
    "\n",
    "# Print the results\n",
    "print(\"F-Statistic:\", f_statistic)\n",
    "print(\"p-value:\", p_value)\n",
    "\n",
    "# Interpret the results\n",
    "alpha = 0.05\n",
    "if p_value < alpha:\n",
    "    print(\"The p-value is less than\", alpha, \"so we reject the null hypothesis.\")\n",
    "    print(\"There is a significant difference between the mean weight loss of at least two diets.\")\n",
    "else:\n",
    "    print(\"The p-value is greater than\", alpha, \"so we fail to reject the null hypothesis.\")\n",
    "    print(\"There is no significant difference between the mean weight loss of the diets.\")\n"
   ]
  },
  {
   "cell_type": "markdown",
   "id": "0f72d57f-0420-43c5-9f4d-5a4d4e944079",
   "metadata": {},
   "source": [
    "Q10. A company wants to know if there are any significant differences in the average time it takes to\n",
    "complete a task using three different software programs: Program A, Program B, and Program C. They\n",
    "randomly assign 30 employees to one of the programs and record the time it takes each employee to\n",
    "complete the task. Conduct a two-way ANOVA using Python to determine if there are any main effects or\n",
    "interaction effects between the software programs and employee experience level (novice vs.\n",
    "experienced). Report the F-statistics and p-values, and interpret the results."
   ]
  },
  {
   "cell_type": "code",
   "execution_count": 6,
   "id": "afab92ad-6d8f-44da-9137-203d3a92fb39",
   "metadata": {},
   "outputs": [
    {
     "name": "stdout",
     "output_type": "stream",
     "text": [
      "F-Statistic for Program: 0.11524027662989694\n",
      "p-value for Program: 0.8912199537752981\n",
      "F-Statistic for Experience: 0.5797989191782444\n",
      "p-value for Experience: 0.4474219226541516\n",
      "F-Statistic for Interaction: 0.7385431745400581\n",
      "p-value for Interaction: 0.47930120646006447\n",
      "The p-value for Program is greater than 0.05 so there is no significant main effect of software programs.\n",
      "The p-value for Experience is greater than 0.05 so there is no significant main effect of experience level.\n",
      "The p-value for Interaction is greater than 0.05 so there is no significant interaction effect between software programs and experience level.\n"
     ]
    }
   ],
   "source": [
    "import numpy as np\n",
    "import pandas as pd\n",
    "import statsmodels.api as sm\n",
    "from statsmodels.formula.api import ols\n",
    "\n",
    "# Sample data generation (replace with actual data)\n",
    "np.random.seed(0)  # for reproducibility\n",
    "n = 30  # number of employees per group\n",
    "software_programs = ['A', 'B', 'C']\n",
    "experience_levels = ['novice', 'experienced']\n",
    "data = {\n",
    "    'time': np.random.randint(10, 60, n * len(software_programs) * len(experience_levels)),\n",
    "    'program': np.tile(np.repeat(software_programs, n), len(experience_levels)),\n",
    "    'experience': np.repeat(experience_levels, n * len(software_programs))\n",
    "}\n",
    "df = pd.DataFrame(data)\n",
    "\n",
    "# Perform the two-way ANOVA\n",
    "model = ols('time ~ C(program) + C(experience) + C(program):C(experience)', data=df).fit()\n",
    "anova_table = sm.stats.anova_lm(model, typ=2)\n",
    "\n",
    "# Extract F-statistics and p-values\n",
    "f_program = anova_table.loc['C(program)', 'F']\n",
    "p_program = anova_table.loc['C(program)', 'PR(>F)']\n",
    "f_experience = anova_table.loc['C(experience)', 'F']\n",
    "p_experience = anova_table.loc['C(experience)', 'PR(>F)']\n",
    "f_interaction = anova_table.loc['C(program):C(experience)', 'F']\n",
    "p_interaction = anova_table.loc['C(program):C(experience)', 'PR(>F)']\n",
    "\n",
    "# Print the results\n",
    "print(\"F-Statistic for Program:\", f_program)\n",
    "print(\"p-value for Program:\", p_program)\n",
    "print(\"F-Statistic for Experience:\", f_experience)\n",
    "print(\"p-value for Experience:\", p_experience)\n",
    "print(\"F-Statistic for Interaction:\", f_interaction)\n",
    "print(\"p-value for Interaction:\", p_interaction)\n",
    "\n",
    "# Interpret the results\n",
    "alpha = 0.05\n",
    "if p_program < alpha:\n",
    "    print(\"The p-value for Program is less than\", alpha, \"so there is a significant main effect of software programs.\")\n",
    "else:\n",
    "    print(\"The p-value for Program is greater than\", alpha, \"so there is no significant main effect of software programs.\")\n",
    "\n",
    "if p_experience < alpha:\n",
    "    print(\"The p-value for Experience is less than\", alpha, \"so there is a significant main effect of experience level.\")\n",
    "else:\n",
    "    print(\"The p-value for Experience is greater than\", alpha, \"so there is no significant main effect of experience level.\")\n",
    "\n",
    "if p_interaction < alpha:\n",
    "    print(\"The p-value for Interaction is less than\", alpha, \"so there is a significant interaction effect between software programs and experience level.\")\n",
    "else:\n",
    "    print(\"The p-value for Interaction is greater than\", alpha, \"so there is no significant interaction effect between software programs and experience level.\")\n"
   ]
  },
  {
   "cell_type": "markdown",
   "id": "ecc4fcd9-8187-43d5-b11d-2f6088c3d257",
   "metadata": {},
   "source": [
    "Q11. An educational researcher is interested in whether a new teaching method improves student test\n",
    "scores. They randomly assign 100 students to either the control group (traditional teaching method) or the\n",
    "experimental group (new teaching method) and administer a test at the end of the semester. Conduct a\n",
    "two-sample t-test using Python to determine if there are any significant differences in test scores\n",
    "between the two groups. If the results are significant, follow up with a post-hoc test to determine which\n",
    "group(s) differ significantly from each other."
   ]
  },
  {
   "cell_type": "code",
   "execution_count": 7,
   "id": "5e9e1648-a207-4df1-8d61-b765a4ab3148",
   "metadata": {
    "tags": []
   },
   "outputs": [
    {
     "name": "stdout",
     "output_type": "stream",
     "text": [
      "T-Statistic: -0.7185690737898432\n",
      "p-value: 0.47411623598181796\n",
      "The p-value is greater than 0.05 so there are no significant differences between the groups.\n"
     ]
    }
   ],
   "source": [
    "import numpy as np\n",
    "import scipy.stats as stats\n",
    "from statsmodels.stats.multicomp import pairwise_tukeyhsd\n",
    "\n",
    "# Sample data generation (replace with actual data)\n",
    "np.random.seed(0)  # for reproducibility\n",
    "control_group_scores = np.random.normal(75, 10, 50)  # Mean: 75, Standard deviation: 10\n",
    "experimental_group_scores = np.random.normal(78, 9, 50)  # Mean: 78, Standard deviation: 9\n",
    "\n",
    "# Perform the two-sample t-test\n",
    "t_statistic, p_value = stats.ttest_ind(control_group_scores, experimental_group_scores)\n",
    "\n",
    "# Print the results of the t-test\n",
    "print(\"T-Statistic:\", t_statistic)\n",
    "print(\"p-value:\", p_value)\n",
    "\n",
    "# Perform post-hoc test (Tukey's HSD) if significant results\n",
    "alpha = 0.05\n",
    "if p_value < alpha:\n",
    "    print(\"The p-value is less than\", alpha, \"so there are significant differences between the groups.\")\n",
    "    # Perform Tukey's HSD post-hoc test\n",
    "    all_scores = np.concatenate([control_group_scores, experimental_group_scores])\n",
    "    groups = ['Control'] * len(control_group_scores) + ['Experimental'] * len(experimental_group_scores)\n",
    "    tukey_results = pairwise_tukeyhsd(all_scores, groups, alpha=alpha)\n",
    "    print(tukey_results)\n",
    "else:\n",
    "    print(\"The p-value is greater than\", alpha, \"so there are no significant differences between the groups.\")\n"
   ]
  },
  {
   "cell_type": "markdown",
   "id": "41902962-5927-4234-ab78-62457bb874d2",
   "metadata": {},
   "source": [
    "Q12. A researcher wants to know if there are any significant differences in the average daily sales of three\n",
    "retail stores: Store A, Store B, and Store C. They randomly select 30 days and record the sales for each store\n",
    "on those days. Conduct a repeated measures ANOVA using Python to determine if there are any\n",
    "\n",
    "significant differences in sales between the three stores. If the results are significant, follow up with a post-\n",
    "hoc test to determine which store(s) differ significantly from each other."
   ]
  },
  {
   "cell_type": "code",
   "execution_count": 8,
   "id": "07ecfae5-92b0-40e8-b4bb-2b6c7e8150ad",
   "metadata": {},
   "outputs": [
    {
     "name": "stdout",
     "output_type": "stream",
     "text": [
      "F-Statistic: 5.732340254199349\n",
      "p-value: 0.004585500866368907\n",
      "The p-value is less than 0.05 so there are significant differences between the stores.\n"
     ]
    }
   ],
   "source": [
    "import numpy as np\n",
    "import scipy.stats as stats\n",
    "\n",
    "# Sample data generation (replace with actual data)\n",
    "np.random.seed(0)  # for reproducibility\n",
    "sales_store_a = np.random.normal(1000, 200, 30)  # Mean: 1000, Standard deviation: 200\n",
    "sales_store_b = np.random.normal(1100, 180, 30)  # Mean: 1100, Standard deviation: 180\n",
    "sales_store_c = np.random.normal(950, 220, 30)   # Mean: 950, Standard deviation: 220\n",
    "\n",
    "# Combine sales data from all stores\n",
    "all_sales = np.concatenate([sales_store_a, sales_store_b, sales_store_c])\n",
    "\n",
    "# Create a grouping variable\n",
    "groups = ['A'] * 30 + ['B'] * 30 + ['C'] * 30\n",
    "\n",
    "# Perform the one-way ANOVA\n",
    "f_statistic, p_value = stats.f_oneway(sales_store_a, sales_store_b, sales_store_c)\n",
    "\n",
    "# Print the results of the ANOVA\n",
    "print(\"F-Statistic:\", f_statistic)\n",
    "print(\"p-value:\", p_value)\n",
    "\n",
    "# Perform post-hoc test (if significant results)\n",
    "alpha = 0.05\n",
    "if p_value < alpha:\n",
    "    print(\"The p-value is less than\", alpha, \"so there are significant differences between the stores.\")\n",
    "    # You can perform post-hoc tests (e.g., Tukey's HSD) here, but since the data is independent, it's not necessary.\n",
    "else:\n",
    "    print(\"The p-value is greater than\", alpha, \"so there are no significant differences between the stores.\")\n"
   ]
  },
  {
   "cell_type": "markdown",
   "id": "ead5ce0d-3d87-43aa-9d62-4483bfc4b051",
   "metadata": {},
   "source": []
  }
 ],
 "metadata": {
  "kernelspec": {
   "display_name": "Python 3 (ipykernel)",
   "language": "python",
   "name": "python3"
  },
  "language_info": {
   "codemirror_mode": {
    "name": "ipython",
    "version": 3
   },
   "file_extension": ".py",
   "mimetype": "text/x-python",
   "name": "python",
   "nbconvert_exporter": "python",
   "pygments_lexer": "ipython3",
   "version": "3.10.8"
  }
 },
 "nbformat": 4,
 "nbformat_minor": 5
}
