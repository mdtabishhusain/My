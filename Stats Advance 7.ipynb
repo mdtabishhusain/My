{
 "cells": [
  {
   "cell_type": "markdown",
   "id": "ce2ce270-b7fe-4652-88c0-5d19833a180f",
   "metadata": {},
   "source": [
    "Q1. Write a Python function that takes in two arrays of data and calculates the F-value for a variance ratio\n",
    "test. The function should return the F-value and the corresponding p-value for the test."
   ]
  },
  {
   "cell_type": "code",
   "execution_count": 1,
   "id": "06a793b4-536e-4cb7-bd93-2e872ac47ac8",
   "metadata": {},
   "outputs": [
    {
     "name": "stdout",
     "output_type": "stream",
     "text": [
      "F-value: 1.838235294117647\n",
      "p-value: 0.2849375098848153\n"
     ]
    }
   ],
   "source": [
    "import numpy as np\n",
    "import scipy.stats as stats\n",
    "\n",
    "def calculate_f_value_and_p_value(data1, data2):\n",
    "    \"\"\"\n",
    "    Calculate the F-value and corresponding p-value for a variance ratio test (ANOVA).\n",
    "\n",
    "    Parameters:\n",
    "    data1 (array-like): Data for group 1\n",
    "    data2 (array-like): Data for group 2\n",
    "\n",
    "    Returns:\n",
    "    float: F-value\n",
    "    float: p-value\n",
    "    \"\"\"\n",
    "    # Calculate the variances\n",
    "    var1 = np.var(data1, ddof=1)  # Variance of group 1\n",
    "    var2 = np.var(data2, ddof=1)  # Variance of group 2\n",
    "    \n",
    "    # Calculate the F-value\n",
    "    F_value = var1 / var2 if var1 >= var2 else var2 / var1\n",
    "\n",
    "    # Degrees of freedom\n",
    "    df1 = len(data1) - 1\n",
    "    df2 = len(data2) - 1\n",
    "\n",
    "    # Calculate the p-value\n",
    "    p_value = stats.f.sf(F_value, df1, df2)  # Survival function (1 - cdf)\n",
    "\n",
    "    return F_value, p_value\n",
    "\n",
    "# Example usage\n",
    "data_group1 = [15, 20, 25, 30, 35]\n",
    "data_group2 = [18, 22, 30, 28, 32]\n",
    "F_value, p_value = calculate_f_value_and_p_value(data_group1, data_group2)\n",
    "print(\"F-value:\", F_value)\n",
    "print(\"p-value:\", p_value)\n"
   ]
  },
  {
   "cell_type": "markdown",
   "id": "17e6a6f7-79e2-4293-b084-8084c015dbc7",
   "metadata": {},
   "source": [
    "Q2. Given a significance level of 0.05 and the degrees of freedom for the numerator and denominator of an\n",
    "F-distribution, write a Python function that returns the critical F-value for a two-tailed test."
   ]
  },
  {
   "cell_type": "code",
   "execution_count": 2,
   "id": "05c9a434-2294-4273-843d-17b68ccb9349",
   "metadata": {},
   "outputs": [
    {
     "name": "stdout",
     "output_type": "stream",
     "text": [
      "Critical F-value: 3.8586986662732143\n"
     ]
    }
   ],
   "source": [
    "import scipy.stats as stats\n",
    "\n",
    "def get_critical_f_value(alpha, df1, df2):\n",
    "    \"\"\"\n",
    "    Calculate the critical F-value for a two-tailed test.\n",
    "\n",
    "    Parameters:\n",
    "    alpha (float): Significance level (e.g., 0.05 for a 95% confidence interval).\n",
    "    df1 (int): Degrees of freedom for the numerator.\n",
    "    df2 (int): Degrees of freedom for the denominator.\n",
    "\n",
    "    Returns:\n",
    "    float: Critical F-value for the given alpha and degrees of freedom.\n",
    "    \"\"\"\n",
    "    # Calculate the critical F-value using the inverse cumulative distribution function (percent point function)\n",
    "    critical_f_value = stats.f.ppf(1 - alpha / 2, df1, df2)\n",
    "    return critical_f_value\n",
    "\n",
    "# Example usage\n",
    "alpha = 0.05\n",
    "df1 = 3  # degrees of freedom for the numerator\n",
    "df2 = 20  # degrees of freedom for the denominator\n",
    "critical_f_value = get_critical_f_value(alpha, df1, df2)\n",
    "print(\"Critical F-value:\", critical_f_value)\n"
   ]
  },
  {
   "cell_type": "markdown",
   "id": "30f6cbbc-c141-4f27-9d17-fd5c521969c3",
   "metadata": {},
   "source": [
    "Q3. Write a Python program that generates random samples from two normal distributions with known\n",
    "\n",
    "variances and uses an F-test to determine if the variances are equal. The program should output the F-\n",
    "value, degrees of freedom, and p-value for the test."
   ]
  },
  {
   "cell_type": "code",
   "execution_count": 3,
   "id": "f768192c-17b9-49d3-8e55-4c1c71b282f8",
   "metadata": {},
   "outputs": [
    {
     "name": "stdout",
     "output_type": "stream",
     "text": [
      "F-value: 1.5554662872695164\n",
      "Degrees of freedom: (29, 24)\n",
      "p-value: 0.2726436400056713\n"
     ]
    }
   ],
   "source": [
    "import numpy as np\n",
    "import scipy.stats as stats\n",
    "\n",
    "def f_test(sample1, sample2):\n",
    "    \"\"\"\n",
    "    Perform an F-test to determine if the variances of two samples are equal.\n",
    "\n",
    "    Parameters:\n",
    "    sample1 (numpy array): First sample data.\n",
    "    sample2 (numpy array): Second sample data.\n",
    "\n",
    "    Returns:\n",
    "    float: F-value\n",
    "    tuple: Degrees of freedom (df1, df2)\n",
    "    float: p-value\n",
    "    \"\"\"\n",
    "    # Calculate variances\n",
    "    var1 = np.var(sample1, ddof=1)  # variance of sample 1\n",
    "    var2 = np.var(sample2, ddof=1)  # variance of sample 2\n",
    "\n",
    "    # Calculate F-value\n",
    "    f_value = var1 / var2 if var1 >= var2 else var2 / var1\n",
    "\n",
    "    # Calculate degrees of freedom\n",
    "    df1 = len(sample1) - 1  # degrees of freedom for sample 1\n",
    "    df2 = len(sample2) - 1  # degrees of freedom for sample 2\n",
    "\n",
    "    # Calculate p-value\n",
    "    p_value = 2 * min(stats.f.cdf(f_value, df1, df2), 1 - stats.f.cdf(f_value, df1, df2))\n",
    "\n",
    "    return f_value, (df1, df2), p_value\n",
    "\n",
    "# Generate random samples from two normal distributions\n",
    "np.random.seed(0)  # for reproducibility\n",
    "sample1 = np.random.normal(loc=0, scale=5, size=30)  # sample from first normal distribution\n",
    "sample2 = np.random.normal(loc=0, scale=7, size=25)  # sample from second normal distribution\n",
    "\n",
    "# Perform the F-test\n",
    "f_value, degrees_of_freedom, p_value = f_test(sample1, sample2)\n",
    "\n",
    "# Print the results\n",
    "print(\"F-value:\", f_value)\n",
    "print(\"Degrees of freedom:\", degrees_of_freedom)\n",
    "print(\"p-value:\", p_value)\n"
   ]
  },
  {
   "cell_type": "markdown",
   "id": "26032cb3-bb0e-4f7a-b357-176ccfa221e7",
   "metadata": {},
   "source": [
    "Q4.The variances of two populations are known to be 10 and 15. A sample of 12 observations is taken from\n",
    "each population. Conduct an F-test at the 5% significance level to determine if the variances are\n",
    "significantly different."
   ]
  },
  {
   "cell_type": "code",
   "execution_count": 4,
   "id": "4e986f56-13e1-4a10-af7c-08b220352303",
   "metadata": {},
   "outputs": [
    {
     "name": "stdout",
     "output_type": "stream",
     "text": [
      "Fail to reject null hypothesis. Variances are not significantly different.\n",
      "Calculated F-value: 0.6666666666666666\n",
      "Critical F-value: 3.473699051085809\n",
      "Degrees of freedom (numerator, denominator): 11 11\n"
     ]
    }
   ],
   "source": [
    "import scipy.stats as stats\n",
    "\n",
    "# Given variances and sample sizes\n",
    "variance_population1 = 10\n",
    "variance_population2 = 15\n",
    "sample_size_population1 = 12\n",
    "sample_size_population2 = 12\n",
    "\n",
    "# Calculate the F-value\n",
    "F_value = variance_population1 / variance_population2\n",
    "\n",
    "# Degrees of freedom\n",
    "df1 = sample_size_population1 - 1\n",
    "df2 = sample_size_population2 - 1\n",
    "\n",
    "# Significance level (alpha)\n",
    "alpha = 0.05\n",
    "\n",
    "# Calculate critical F-value\n",
    "critical_F_value = stats.f.ppf(1 - alpha / 2, df1, df2)\n",
    "\n",
    "# Compare with critical F-value\n",
    "if F_value > critical_F_value:\n",
    "    print(\"Reject null hypothesis. Variances are significantly different.\")\n",
    "else:\n",
    "    print(\"Fail to reject null hypothesis. Variances are not significantly different.\")\n",
    "\n",
    "print(\"Calculated F-value:\", F_value)\n",
    "print(\"Critical F-value:\", critical_F_value)\n",
    "print(\"Degrees of freedom (numerator, denominator):\", df1, df2)\n"
   ]
  },
  {
   "cell_type": "markdown",
   "id": "bc88b929-571d-4318-9357-56b2dcf8e830",
   "metadata": {},
   "source": [
    "Q5. A manufacturer claims that the variance of the diameter of a certain product is 0.005. A sample of 25\n",
    "products is taken, and the sample variance is found to be 0.006. Conduct an F-test at the 1% significance\n",
    "level to determine if the claim is justified."
   ]
  },
  {
   "cell_type": "code",
   "execution_count": 5,
   "id": "36ea199a-0aaf-4b9d-8382-4cd6a9bfd385",
   "metadata": {},
   "outputs": [
    {
     "name": "stdout",
     "output_type": "stream",
     "text": [
      "Fail to reject null hypothesis. Sample variance is not significantly different from the claimed population variance.\n",
      "Calculated F-value: 1.2\n",
      "Critical F-value: 24939.565259943236\n",
      "Degrees of freedom (numerator, denominator): 24 1\n"
     ]
    }
   ],
   "source": [
    "import scipy.stats as stats\n",
    "\n",
    "# Given data\n",
    "claimed_variance = 0.005\n",
    "sample_variance = 0.006\n",
    "sample_size = 25\n",
    "\n",
    "# Calculate the F-value\n",
    "F_value = sample_variance / claimed_variance\n",
    "\n",
    "# Degrees of freedom\n",
    "df1 = sample_size - 1\n",
    "df2 = 1  # Degrees of freedom for the assumed population variance\n",
    "\n",
    "# Significance level (alpha)\n",
    "alpha = 0.01\n",
    "\n",
    "# Calculate critical F-value\n",
    "critical_F_value = stats.f.ppf(1 - alpha / 2, df1, df2)\n",
    "\n",
    "# Compare with critical F-value\n",
    "if F_value > critical_F_value:\n",
    "    print(\"Reject null hypothesis. Sample variance is significantly different from the claimed population variance.\")\n",
    "else:\n",
    "    print(\"Fail to reject null hypothesis. Sample variance is not significantly different from the claimed population variance.\")\n",
    "\n",
    "print(\"Calculated F-value:\", F_value)\n",
    "print(\"Critical F-value:\", critical_F_value)\n",
    "print(\"Degrees of freedom (numerator, denominator):\", df1, df2)\n"
   ]
  },
  {
   "cell_type": "markdown",
   "id": "1041a21d-f6cd-48be-880f-fa7bd37683bf",
   "metadata": {},
   "source": [
    "Q6. Write a Python function that takes in the degrees of freedom for the numerator and denominator of an\n",
    "F-distribution and calculates the mean and variance of the distribution. The function should return the\n",
    "mean and variance as a tuple."
   ]
  },
  {
   "cell_type": "code",
   "execution_count": 6,
   "id": "02967fe8-db6f-46fd-a730-81df5317262a",
   "metadata": {},
   "outputs": [
    {
     "name": "stdout",
     "output_type": "stream",
     "text": [
      "Mean of F-distribution: 1.25\n",
      "Variance of F-distribution: 1.3541666666666667\n"
     ]
    }
   ],
   "source": [
    "def calculate_f_distribution_mean_and_variance(df1, df2):\n",
    "    \"\"\"\n",
    "    Calculate the mean and variance of an F-distribution given degrees of freedom.\n",
    "\n",
    "    Parameters:\n",
    "    df1 (int): Degrees of freedom for the numerator.\n",
    "    df2 (int): Degrees of freedom for the denominator.\n",
    "\n",
    "    Returns:\n",
    "    tuple: Mean and variance of the F-distribution (mean, variance).\n",
    "    \"\"\"\n",
    "    # Calculate mean\n",
    "    mean = df2 / (df2 - 2)\n",
    "\n",
    "    # Calculate variance\n",
    "    variance = (2 * df2 ** 2 * (df1 + df2 - 2)) / (df1 * (df2 - 2) ** 2 * (df2 - 4))\n",
    "\n",
    "    return mean, variance\n",
    "\n",
    "# Example usage\n",
    "df1 = 5  # degrees of freedom for the numerator\n",
    "df2 = 10  # degrees of freedom for the denominator\n",
    "mean, variance = calculate_f_distribution_mean_and_variance(df1, df2)\n",
    "print(\"Mean of F-distribution:\", mean)\n",
    "print(\"Variance of F-distribution:\", variance)\n"
   ]
  },
  {
   "cell_type": "markdown",
   "id": "12cc022c-9ce6-4fb1-87d3-2c9b3426e12e",
   "metadata": {},
   "source": [
    "Q7. A random sample of 10 measurements is taken from a normal population with unknown variance. The\n",
    "sample variance is found to be 25. Another random sample of 15 measurements is taken from another\n",
    "normal population with unknown variance, and the sample variance is found to be 20. Conduct an F-test\n",
    "at the 10% significance level to determine if the variances are significantly different."
   ]
  },
  {
   "cell_type": "code",
   "execution_count": 7,
   "id": "81256534-c7bc-43ae-a57a-b3f04467b06d",
   "metadata": {},
   "outputs": [
    {
     "name": "stdout",
     "output_type": "stream",
     "text": [
      "Fail to reject null hypothesis. Variances are not significantly different.\n",
      "Calculated F-value: 1.25\n",
      "Critical F-value: 2.6457907352338195\n",
      "Degrees of freedom (numerator, denominator): 9 14\n"
     ]
    }
   ],
   "source": [
    "import scipy.stats as stats\n",
    "\n",
    "# Given sample variances and sample sizes\n",
    "sample_variance1 = 25\n",
    "sample_variance2 = 20\n",
    "sample_size1 = 10\n",
    "sample_size2 = 15\n",
    "\n",
    "# Determine larger and smaller sample variances\n",
    "larger_variance = max(sample_variance1, sample_variance2)\n",
    "smaller_variance = min(sample_variance1, sample_variance2)\n",
    "\n",
    "# Calculate the F-value\n",
    "F_value = larger_variance / smaller_variance\n",
    "\n",
    "# Degrees of freedom\n",
    "df1 = sample_size1 - 1\n",
    "df2 = sample_size2 - 1\n",
    "\n",
    "# Significance level (alpha)\n",
    "alpha = 0.10\n",
    "\n",
    "# Calculate critical F-value\n",
    "critical_F_value = stats.f.ppf(1 - alpha / 2, df1, df2)\n",
    "\n",
    "# Compare with critical F-value\n",
    "if F_value > critical_F_value:\n",
    "    print(\"Reject null hypothesis. Variances are significantly different.\")\n",
    "else:\n",
    "    print(\"Fail to reject null hypothesis. Variances are not significantly different.\")\n",
    "\n",
    "print(\"Calculated F-value:\", F_value)\n",
    "print(\"Critical F-value:\", critical_F_value)\n",
    "print(\"Degrees of freedom (numerator, denominator):\", df1, df2)\n"
   ]
  },
  {
   "cell_type": "markdown",
   "id": "66594c40-6f0c-4163-b4a6-7f095ca74ebf",
   "metadata": {},
   "source": [
    "Q8. The following data represent the waiting times in minutes at two different restaurants on a Saturday\n",
    "night: Restaurant A: 24, 25, 28, 23, 22, 20, 27; Restaurant B: 31, 33, 35, 30, 32, 36. Conduct an F-test at the 5%\n",
    "significance level to determine if the variances are significantly different."
   ]
  },
  {
   "cell_type": "code",
   "execution_count": 8,
   "id": "14b1ee2f-27d8-491c-9d04-a66f8a677a6f",
   "metadata": {},
   "outputs": [
    {
     "name": "stdout",
     "output_type": "stream",
     "text": [
      "Fail to reject null hypothesis. Variances are not significantly different.\n",
      "Calculated F-value: 1.4551907719609583\n",
      "Critical F-value: 6.977701858535566\n",
      "Degrees of freedom (numerator, denominator): 6 5\n"
     ]
    }
   ],
   "source": [
    "import numpy as np\n",
    "import scipy.stats as stats\n",
    "\n",
    "# Waiting times in minutes for each restaurant\n",
    "waiting_times_restaurant_a = np.array([24, 25, 28, 23, 22, 20, 27])\n",
    "waiting_times_restaurant_b = np.array([31, 33, 35, 30, 32, 36])\n",
    "\n",
    "# Calculate sample variances for each restaurant\n",
    "sample_variance_a = np.var(waiting_times_restaurant_a, ddof=1)\n",
    "sample_variance_b = np.var(waiting_times_restaurant_b, ddof=1)\n",
    "\n",
    "# Determine larger and smaller sample variances\n",
    "larger_variance = max(sample_variance_a, sample_variance_b)\n",
    "smaller_variance = min(sample_variance_a, sample_variance_b)\n",
    "\n",
    "# Calculate the F-value\n",
    "F_value = larger_variance / smaller_variance\n",
    "\n",
    "# Degrees of freedom\n",
    "df1 = len(waiting_times_restaurant_a) - 1\n",
    "df2 = len(waiting_times_restaurant_b) - 1\n",
    "\n",
    "# Significance level (alpha)\n",
    "alpha = 0.05\n",
    "\n",
    "# Calculate critical F-value\n",
    "critical_F_value = stats.f.ppf(1 - alpha / 2, df1, df2)\n",
    "\n",
    "# Compare with critical F-value\n",
    "if F_value > critical_F_value:\n",
    "    print(\"Reject null hypothesis. Variances are significantly different.\")\n",
    "else:\n",
    "    print(\"Fail to reject null hypothesis. Variances are not significantly different.\")\n",
    "\n",
    "print(\"Calculated F-value:\", F_value)\n",
    "print(\"Critical F-value:\", critical_F_value)\n",
    "print(\"Degrees of freedom (numerator, denominator):\", df1, df2)\n"
   ]
  },
  {
   "cell_type": "markdown",
   "id": "bbfc9e7a-143f-4629-9ec3-a082dfd93e54",
   "metadata": {},
   "source": [
    "Q9. The following data represent the test scores of two groups of students: Group A: 80, 85, 90, 92, 87, 83;\n",
    "Group B: 75, 78, 82, 79, 81, 84. Conduct an F-test at the 1% significance level to determine if the variances\n",
    "are significantly different."
   ]
  },
  {
   "cell_type": "code",
   "execution_count": 9,
   "id": "ab28f35c-03e0-4bd4-9b33-6db3bab822db",
   "metadata": {},
   "outputs": [
    {
     "name": "stdout",
     "output_type": "stream",
     "text": [
      "Fail to reject null hypothesis. Variances are not significantly different.\n",
      "Calculated F-value: 1.9442622950819677\n",
      "Critical F-value: 14.939605459912224\n",
      "Degrees of freedom (numerator, denominator): 5 5\n"
     ]
    }
   ],
   "source": [
    "import numpy as np\n",
    "import scipy.stats as stats\n",
    "\n",
    "# Test scores for each group\n",
    "test_scores_group_a = np.array([80, 85, 90, 92, 87, 83])\n",
    "test_scores_group_b = np.array([75, 78, 82, 79, 81, 84])\n",
    "\n",
    "# Calculate sample variances for each group\n",
    "sample_variance_a = np.var(test_scores_group_a, ddof=1)\n",
    "sample_variance_b = np.var(test_scores_group_b, ddof=1)\n",
    "\n",
    "# Determine larger and smaller sample variances\n",
    "larger_variance = max(sample_variance_a, sample_variance_b)\n",
    "smaller_variance = min(sample_variance_a, sample_variance_b)\n",
    "\n",
    "# Calculate the F-value\n",
    "F_value = larger_variance / smaller_variance\n",
    "\n",
    "# Degrees of freedom\n",
    "df1 = len(test_scores_group_a) - 1\n",
    "df2 = len(test_scores_group_b) - 1\n",
    "\n",
    "# Significance level (alpha)\n",
    "alpha = 0.01\n",
    "\n",
    "# Calculate critical F-value\n",
    "critical_F_value = stats.f.ppf(1 - alpha / 2, df1, df2)\n",
    "\n",
    "# Compare with critical F-value\n",
    "if F_value > critical_F_value:\n",
    "    print(\"Reject null hypothesis. Variances are significantly different.\")\n",
    "else:\n",
    "    print(\"Fail to reject null hypothesis. Variances are not significantly different.\")\n",
    "\n",
    "print(\"Calculated F-value:\", F_value)\n",
    "print(\"Critical F-value:\", critical_F_value)\n",
    "print(\"Degrees of freedom (numerator, denominator):\", df1, df2)\n"
   ]
  },
  {
   "cell_type": "code",
   "execution_count": null,
   "id": "a0558584-6adb-41ec-97fb-08da1056e2bd",
   "metadata": {},
   "outputs": [],
   "source": []
  }
 ],
 "metadata": {
  "kernelspec": {
   "display_name": "Python 3 (ipykernel)",
   "language": "python",
   "name": "python3"
  },
  "language_info": {
   "codemirror_mode": {
    "name": "ipython",
    "version": 3
   },
   "file_extension": ".py",
   "mimetype": "text/x-python",
   "name": "python",
   "nbconvert_exporter": "python",
   "pygments_lexer": "ipython3",
   "version": "3.10.8"
  }
 },
 "nbformat": 4,
 "nbformat_minor": 5
}
