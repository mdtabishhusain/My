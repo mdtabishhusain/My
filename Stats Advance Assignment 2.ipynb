{
 "cells": [
  {
   "cell_type": "markdown",
   "id": "9c4063c7-247b-47e7-a1dd-846266e1f0a5",
   "metadata": {},
   "source": [
    "### Q1: What are the Probability Mass Function (PMF) and Probability Density Function (PDF)? Explain with an example."
   ]
  },
  {
   "cell_type": "markdown",
   "id": "6e584ff3-b8c6-457e-b81b-760c87d2e370",
   "metadata": {},
   "source": [
    "### Ans:\n",
    "Probability density function is a type of probability distribution function which is used to display distribution of continuous random variable over a symmetric curve.\n",
    "Example: Height of students in a class room.\n",
    "Here in x axis is the height and in y axis is the probability density. Probability density is denoted in decimals such as 0.2, 0.3, 0.4, 0.5 etc. Assume mean of height is 165. So in such scenarios we can get questions like what is the probability of x ≥ 155 i.e. Pr(x≤155). Here we will calculate area under the curve for x ≤155 i.e. Pr(x≤155) = Area under the curve and we can also see the probability is 0.25.\n",
    "\n",
    "Probability mass function is used to show the distribution of discrete random variable.\n",
    "Example: Rolling a dice {1, 2, 3, 4, 5, 6}\n",
    "Here in x axis is the rolling of dice and in y axis is the probability mass. Probability of getting any number either 1 or 2 or 3… is 1⁄6 and since there isn’t any other probability therefore probability mass is denoted by 1⁄6 only. So in such scenarios we can get questions like what is the probability of x≤4 i.e. Pr(x≤4). Here we will calculate Pr(x≤4) by adding the probability of getting 1, 2, 3 and 4 i.e. Pr of (x≤4) = Pr of (x=1) + Pr of (x=2) + Pr of (x=3) + Pr of (x=4).\n",
    "1/6+1/6+1/6+1/6=2/3\n"
   ]
  },
  {
   "cell_type": "markdown",
   "id": "9c584c6d-72f6-4398-813e-6172d642b86a",
   "metadata": {},
   "source": [
    "### Q2: What is Cumulative Density Function (CDF)? Explain with an example. Why CDF is used?"
   ]
  },
  {
   "cell_type": "markdown",
   "id": "c68b2f4d-a44c-416f-a136-08431205484c",
   "metadata": {},
   "source": [
    "### Ans:\n",
    "Cumulative distribution function is used to show PDF and PMF but in a more understandable manner. It sums up the previous values of probability of PDF or PMF and its curve is like S shaped.\n",
    "\n",
    "In the example of rolling a dice we have outcomes as {1, 2, 3, 4, 5, 6} with probability of each is  1⁄6. We have already seen its graph. Now if we see its relation with CDF probability of each element will be added to its successor in order to get the probability of successor i.e. the added probability will be the new probability. We can understand it better with the graph. Using the graph we can easily find the Pr(x≤4) = 4⁄6"
   ]
  },
  {
   "cell_type": "markdown",
   "id": "188f6f81-327e-4a86-8084-0ac9ec58734d",
   "metadata": {},
   "source": [
    "### Q3: What are some examples of situations where the normal distribution might be used as a model? Explain how the parameters of the normal distribution relate to the shape of the distribution."
   ]
  },
  {
   "cell_type": "markdown",
   "id": "a8a2f2a8-c905-483b-b5c5-7f2d2f4eb83d",
   "metadata": {},
   "source": [
    "### Ans:\n",
    "he normal distribution, also known as the Gaussian distribution or the bell curve, is a fundamental probability distribution widely used in various fields to model and analyze data. It is characterized by its bell-shaped curve and is described by two parameters: the mean (μ) and the standard deviation (σ).\n",
    "Some examples of situations where the normal distribution might be used as a model:\n",
    "1. Weight of students in a class.\n",
    "2. Height of students in a class.\n",
    "3. IRIS dataset (sepal width).\n",
    "4. Q – Q Plot (Quantile – Quantile plot) \n"
   ]
  },
  {
   "cell_type": "markdown",
   "id": "9a4e40a3-93fb-4b75-a84f-fc2bba360681",
   "metadata": {},
   "source": [
    "### Q4: Explain the importance of Normal Distribution. Give a few real-life examples of Normal Distribution."
   ]
  },
  {
   "cell_type": "markdown",
   "id": "4989fca8-2518-4234-8e26-8acea1e0b78a",
   "metadata": {},
   "source": [
    "### Ans:\n",
    "A normal or Gaussian distribution is a type of continuous probability distribution for a real valued random variable. It is represented as a symmetrical bell curve where mean = median = mode. Most of the real world datasets follow this distribution. Such as:\n",
    "1. Weight of students in a class.\n",
    "2. Height of students in a class.\n",
    "3. IRIS dataset (sepal width).\n",
    "4. Q – Q Plot (Quantile – Quantile plot) "
   ]
  },
  {
   "cell_type": "markdown",
   "id": "dd5a3b23-e93c-4e1b-8a6c-5c964b24167c",
   "metadata": {},
   "source": [
    "### Q5: What is Bernaulli Distribution? Give an Example. What is the difference between Bernoulli istribution and Binomial Distribution?"
   ]
  },
  {
   "cell_type": "markdown",
   "id": "6c609589-479e-4d16-9051-33f29ae344fa",
   "metadata": {},
   "source": [
    "### Ans:\n",
    "Bernoulli distribution is the discrete probability distribution of a random variable which takes the value 1 with probability p and the value 0 with probability q = 1 – p (outcomes are binary e.g. tossing of coin). less formally, it can be thought of as a model for the set of possible outcomes of any single experiment that asks a yes – no question whereas Binomial distribution with parameters n and p is the discrete probability distribution of the number of successes in a sequence of n independent experiments, each asking a yes – no question, and each with its own Boolean valued outcome (success with probability p or failure q=1-p)."
   ]
  },
  {
   "cell_type": "markdown",
   "id": "3e24b957-2bf6-48fe-b153-0a593f28ed1a",
   "metadata": {},
   "source": [
    "### Q6. Consider a dataset with a mean of 50 and a standard deviation of 10. If we assume that the dataset is normally distributed, what is the probability that a randomly selected observation will be greater than 60? Use the appropriate formula and show your calculations."
   ]
  },
  {
   "cell_type": "markdown",
   "id": "308cd1b3-982e-4485-9d9e-7c544141d6b3",
   "metadata": {},
   "source": [
    "### Ans:\n",
    "To find the probability that a randomly selected observation from a normally distributed dataset with a mean (μ) of 50 and a standard deviation (σ) of 10 will be greater than 60, you can use the z-score formula and standard normal distribution tables (z-tables).\n",
    "\n",
    "First, calculate the z-score for the value 60 using the formula:\n",
    "\n",
    "�\n",
    "=\n",
    "�\n",
    "−\n",
    "�\n",
    "�\n",
    "Z= \n",
    "σ\n",
    "X−μ\n",
    "​\n",
    " \n",
    "\n",
    "Where:\n",
    "\n",
    "�\n",
    "X is the value of interest (60 in this case).\n",
    "�\n",
    "μ is the mean (50).\n",
    "�\n",
    "σ is the standard deviation (10).\n",
    "So, for \n",
    "�\n",
    "=\n",
    "60\n",
    "X=60:\n",
    "\n",
    "�\n",
    "=\n",
    "60\n",
    "−\n",
    "50\n",
    "10\n",
    "=\n",
    "1\n",
    "Z= \n",
    "10\n",
    "60−50\n",
    "​\n",
    " =1\n",
    "\n",
    "Now, you can use a standard normal distribution table or a calculator to find the probability associated with this z-score. In this case, you want to find \n",
    "�\n",
    "(\n",
    "�\n",
    ">\n",
    "1\n",
    ")\n",
    "P(Z>1), which is the probability that a randomly selected observation is greater than 60.\n",
    "\n",
    "Using a standard normal distribution table or calculator, you can find:\n",
    "\n",
    "�\n",
    "(\n",
    "�\n",
    ">\n",
    "1\n",
    ")\n",
    "≈\n",
    "0.1587\n",
    "P(Z>1)≈0.1587\n",
    "\n",
    "So, the probability that a randomly selected observation from this normally distributed dataset will be greater than 60 is approximately 0.1587, or 15.87%.\n",
    "\n",
    "\n",
    "\n",
    "\n"
   ]
  },
  {
   "cell_type": "markdown",
   "id": "ea0abfbb-f762-4f65-9b88-b33c8486f591",
   "metadata": {},
   "source": [
    "### Q7: Explain uniform Distribution with an example."
   ]
  },
  {
   "cell_type": "markdown",
   "id": "b90e94db-2add-4c72-958f-f2a7c1f279e9",
   "metadata": {},
   "source": [
    "### Ans:\n",
    "Uniform distribution or rectangular distribution is a family of symmetric probability distributions.Uniform distribution is divided into 2 parts: Continuous Uniform Distribution (PDF) and Discrete Uniform Distribution (PMF). The distribution describes an experiment where there is an arbitrary outcome that lies between certain bounds. The bounds are defined by the parameters, a and b, which are the minimum and maximum values"
   ]
  },
  {
   "cell_type": "markdown",
   "id": "e4d555b4-0044-4ddd-9706-0b9d3b3565cd",
   "metadata": {},
   "source": [
    "### Q8: What is the z score? State the importance of the z score."
   ]
  },
  {
   "cell_type": "markdown",
   "id": "edd64235-aeda-4643-b17d-19bb7438e489",
   "metadata": {},
   "source": [
    "### Ans:\n",
    "Z – Score is given by,  (x_i-μ)/σ. With the help of z – score we can convert a distribution into a standard normal distribution. Also z – score tells how many standard deviation is a value away from mean."
   ]
  },
  {
   "cell_type": "markdown",
   "id": "746246d7-e385-4651-af6d-a580690ebc3c",
   "metadata": {},
   "source": [
    "### Q9: What is Central Limit Theorem? State the significance of the Central Limit Theorem."
   ]
  },
  {
   "cell_type": "markdown",
   "id": "f80ad517-ba78-41a6-a3fd-0f5a5b15866f",
   "metadata": {},
   "source": [
    "### Ans:\n",
    "The central limit theorem states that the sampling distribution of the mean will always be normally distributed, as long as the sample size is large enough. Regardless of whether the population has a normal, Poisson, binomial or any other distribution, sampling distribution of the mean will be normal."
   ]
  },
  {
   "cell_type": "markdown",
   "id": "cd82fe45-4a17-4275-b287-36b5c96ef7df",
   "metadata": {},
   "source": [
    "### Q10: State the assumptions of the Central Limit Theorem."
   ]
  },
  {
   "cell_type": "markdown",
   "id": "49085288-6f9d-473c-9cb9-1b6a47d6580c",
   "metadata": {},
   "source": [
    "### Ans:\n",
    "If population data has any other distribution than Gaussian or normal, then sample size n will always be greater than or equal to 30 i.e. n≥30 else n can be any value. \n",
    "Also mean of sampling distribution will be approximately equal to mean of population distribution whereas standard deviation of sampling distribution will be standard deviation of population distribution divided by under root of sample size (n).\n"
   ]
  },
  {
   "cell_type": "code",
   "execution_count": null,
   "id": "ffbeeaa0-7344-4c74-9fe4-7daa6b8031e6",
   "metadata": {},
   "outputs": [],
   "source": []
  }
 ],
 "metadata": {
  "kernelspec": {
   "display_name": "Python 3 (ipykernel)",
   "language": "python",
   "name": "python3"
  },
  "language_info": {
   "codemirror_mode": {
    "name": "ipython",
    "version": 3
   },
   "file_extension": ".py",
   "mimetype": "text/x-python",
   "name": "python",
   "nbconvert_exporter": "python",
   "pygments_lexer": "ipython3",
   "version": "3.10.8"
  }
 },
 "nbformat": 4,
 "nbformat_minor": 5
}
